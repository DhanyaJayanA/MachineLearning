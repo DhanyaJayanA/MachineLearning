{
 "cells": [
  {
   "cell_type": "code",
   "execution_count": 2,
   "metadata": {
    "execution": {
     "iopub.execute_input": "2021-10-01T14:25:01.293965Z",
     "iopub.status.busy": "2021-10-01T14:25:01.293196Z",
     "iopub.status.idle": "2021-10-01T14:25:01.295409Z",
     "shell.execute_reply": "2021-10-01T14:25:01.295804Z",
     "shell.execute_reply.started": "2021-10-01T14:22:58.763893Z"
    },
    "papermill": {
     "duration": 0.018538,
     "end_time": "2021-10-01T14:25:01.295929",
     "exception": false,
     "start_time": "2021-10-01T14:25:01.277391",
     "status": "completed"
    },
    "tags": []
   },
   "outputs": [],
   "source": [
    "import pandas as pd\n",
    "import numpy as np"
   ]
  },
  {
   "cell_type": "code",
   "execution_count": 3,
   "metadata": {
    "execution": {
     "iopub.execute_input": "2021-10-01T14:25:01.326942Z",
     "iopub.status.busy": "2021-10-01T14:25:01.326295Z",
     "iopub.status.idle": "2021-10-01T14:25:01.349498Z",
     "shell.execute_reply": "2021-10-01T14:25:01.349877Z",
     "shell.execute_reply.started": "2021-10-01T14:22:58.788728Z"
    },
    "papermill": {
     "duration": 0.040204,
     "end_time": "2021-10-01T14:25:01.349996",
     "exception": false,
     "start_time": "2021-10-01T14:25:01.309792",
     "status": "completed"
    },
    "tags": []
   },
   "outputs": [
    {
     "data": {
      "text/html": [
       "<div>\n",
       "<style scoped>\n",
       "    .dataframe tbody tr th:only-of-type {\n",
       "        vertical-align: middle;\n",
       "    }\n",
       "\n",
       "    .dataframe tbody tr th {\n",
       "        vertical-align: top;\n",
       "    }\n",
       "\n",
       "    .dataframe thead th {\n",
       "        text-align: right;\n",
       "    }\n",
       "</style>\n",
       "<table border=\"1\" class=\"dataframe\">\n",
       "  <thead>\n",
       "    <tr style=\"text-align: right;\">\n",
       "      <th></th>\n",
       "      <th>Position</th>\n",
       "      <th>Level</th>\n",
       "      <th>Salary</th>\n",
       "    </tr>\n",
       "  </thead>\n",
       "  <tbody>\n",
       "    <tr>\n",
       "      <th>0</th>\n",
       "      <td>Business Analyst</td>\n",
       "      <td>1</td>\n",
       "      <td>45000</td>\n",
       "    </tr>\n",
       "    <tr>\n",
       "      <th>1</th>\n",
       "      <td>Junior Consultant</td>\n",
       "      <td>2</td>\n",
       "      <td>50000</td>\n",
       "    </tr>\n",
       "    <tr>\n",
       "      <th>2</th>\n",
       "      <td>Senior Consultant</td>\n",
       "      <td>3</td>\n",
       "      <td>60000</td>\n",
       "    </tr>\n",
       "    <tr>\n",
       "      <th>3</th>\n",
       "      <td>Manager</td>\n",
       "      <td>4</td>\n",
       "      <td>80000</td>\n",
       "    </tr>\n",
       "    <tr>\n",
       "      <th>4</th>\n",
       "      <td>Country Manager</td>\n",
       "      <td>5</td>\n",
       "      <td>110000</td>\n",
       "    </tr>\n",
       "  </tbody>\n",
       "</table>\n",
       "</div>"
      ],
      "text/plain": [
       "            Position  Level  Salary\n",
       "0   Business Analyst      1   45000\n",
       "1  Junior Consultant      2   50000\n",
       "2  Senior Consultant      3   60000\n",
       "3            Manager      4   80000\n",
       "4    Country Manager      5  110000"
      ]
     },
     "execution_count": 3,
     "metadata": {},
     "output_type": "execute_result"
    }
   ],
   "source": [
    "df=pd.read_csv(\"../input/position-salary-dataset/Position_Salaries.csv\")\n",
    "df.head()"
   ]
  },
  {
   "cell_type": "code",
   "execution_count": 4,
   "metadata": {
    "execution": {
     "iopub.execute_input": "2021-10-01T14:25:01.379933Z",
     "iopub.status.busy": "2021-10-01T14:25:01.379295Z",
     "iopub.status.idle": "2021-10-01T14:25:01.382147Z",
     "shell.execute_reply": "2021-10-01T14:25:01.382558Z",
     "shell.execute_reply.started": "2021-10-01T14:22:58.828927Z"
    },
    "papermill": {
     "duration": 0.019765,
     "end_time": "2021-10-01T14:25:01.382691",
     "exception": false,
     "start_time": "2021-10-01T14:25:01.362926",
     "status": "completed"
    },
    "tags": []
   },
   "outputs": [
    {
     "data": {
      "text/plain": [
       "30"
      ]
     },
     "execution_count": 4,
     "metadata": {},
     "output_type": "execute_result"
    }
   ],
   "source": [
    "df.size"
   ]
  },
  {
   "cell_type": "code",
   "execution_count": 5,
   "metadata": {
    "execution": {
     "iopub.execute_input": "2021-10-01T14:25:01.414738Z",
     "iopub.status.busy": "2021-10-01T14:25:01.414236Z",
     "iopub.status.idle": "2021-10-01T14:25:01.416672Z",
     "shell.execute_reply": "2021-10-01T14:25:01.417053Z",
     "shell.execute_reply.started": "2021-10-01T14:22:58.868882Z"
    },
    "papermill": {
     "duration": 0.021215,
     "end_time": "2021-10-01T14:25:01.417174",
     "exception": false,
     "start_time": "2021-10-01T14:25:01.395959",
     "status": "completed"
    },
    "tags": []
   },
   "outputs": [
    {
     "data": {
      "text/plain": [
       "Position    0\n",
       "Level       0\n",
       "Salary      0\n",
       "dtype: int64"
      ]
     },
     "execution_count": 5,
     "metadata": {},
     "output_type": "execute_result"
    }
   ],
   "source": [
    "df.isnull().sum()"
   ]
  },
  {
   "cell_type": "code",
   "execution_count": 6,
   "metadata": {
    "execution": {
     "iopub.execute_input": "2021-10-01T14:25:01.449132Z",
     "iopub.status.busy": "2021-10-01T14:25:01.448568Z",
     "iopub.status.idle": "2021-10-01T14:25:02.402835Z",
     "shell.execute_reply": "2021-10-01T14:25:02.403586Z",
     "shell.execute_reply.started": "2021-10-01T14:22:58.898343Z"
    },
    "papermill": {
     "duration": 0.972984,
     "end_time": "2021-10-01T14:25:02.403857",
     "exception": false,
     "start_time": "2021-10-01T14:25:01.430873",
     "status": "completed"
    },
    "tags": []
   },
   "outputs": [
    {
     "data": {
      "image/png": "[encoded data removed]",
      "text/plain": [
       "<Figure size 432x288 with 1 Axes>"
      ]
     },
     "metadata": {
      "needs_background": "light"
     },
     "output_type": "display_data"
    }
   ],
   "source": [
    "import seaborn as sns\n",
    "import matplotlib.pyplot as plt\n",
    "sns.scatterplot(x=\"Level\",y=\"Salary\",data=df)\n",
    "plt.show()"
   ]
  },
  {
   "cell_type": "code",
   "execution_count": 7,
   "metadata": {
    "execution": {
     "iopub.execute_input": "2021-10-01T14:25:02.448518Z",
     "iopub.status.busy": "2021-10-01T14:25:02.447911Z",
     "iopub.status.idle": "2021-10-01T14:25:02.453636Z",
     "shell.execute_reply": "2021-10-01T14:25:02.452913Z",
     "shell.execute_reply.started": "2021-10-01T14:22:59.083336Z"
    },
    "papermill": {
     "duration": 0.026484,
     "end_time": "2021-10-01T14:25:02.453768",
     "exception": false,
     "start_time": "2021-10-01T14:25:02.427284",
     "status": "completed"
    },
    "tags": []
   },
   "outputs": [],
   "source": [
    "X = df.iloc[:, 1:-1].values\n",
    "y = df.iloc[:, -1].values"
   ]
  },
  {
   "cell_type": "code",
   "execution_count": 8,
   "metadata": {
    "execution": {
     "iopub.execute_input": "2021-10-01T14:25:02.490763Z",
     "iopub.status.busy": "2021-10-01T14:25:02.489933Z",
     "iopub.status.idle": "2021-10-01T14:25:02.882773Z",
     "shell.execute_reply": "2021-10-01T14:25:02.882320Z",
     "shell.execute_reply.started": "2021-10-01T14:22:59.090089Z"
    },
    "papermill": {
     "duration": 0.410016,
     "end_time": "2021-10-01T14:25:02.882895",
     "exception": false,
     "start_time": "2021-10-01T14:25:02.472879",
     "status": "completed"
    },
    "tags": []
   },
   "outputs": [
    {
     "data": {
      "image/png": "[encoded data removed]",
      "text/plain": [
       "<Figure size 432x288 with 1 Axes>"
      ]
     },
     "metadata": {
      "needs_background": "light"
     },
     "output_type": "display_data"
    }
   ],
   "source": [
    "from sklearn.linear_model import LinearRegression\n",
    "lr=LinearRegression()\n",
    "lr.fit(X,y)\n",
    "lr_model=lr.fit(X,y)\n",
    "predict_lr=lr_model.predict(X)\n",
    "plt.scatter(X,y, color = 'red')\n",
    "plt.plot(X, lr_model.coef_*X + lr_model.intercept_, '-b')\n",
    "plt.title(\"Linear regression\")\n",
    "plt.xlabel('Position level')\n",
    "plt.ylabel('Salary')\n",
    "plt.show()"
   ]
  },
  {
   "cell_type": "code",
   "execution_count": 9,
   "metadata": {
    "execution": {
     "iopub.execute_input": "2021-10-01T14:25:02.918485Z",
     "iopub.status.busy": "2021-10-01T14:25:02.917642Z",
     "iopub.status.idle": "2021-10-01T14:25:02.920960Z",
     "shell.execute_reply": "2021-10-01T14:25:02.921341Z",
     "shell.execute_reply.started": "2021-10-01T14:22:59.249122Z"
    },
    "papermill": {
     "duration": 0.022993,
     "end_time": "2021-10-01T14:25:02.921505",
     "exception": false,
     "start_time": "2021-10-01T14:25:02.898512",
     "status": "completed"
    },
    "tags": []
   },
   "outputs": [
    {
     "name": "stdout",
     "output_type": "stream",
     "text": [
      "r2= 0.6690412331929895 \n",
      "\n"
     ]
    }
   ],
   "source": [
    "from sklearn.metrics import r2_score\n",
    "r2=r2_score(y,predict_lr)\n",
    "print(\"r2=\",r2,\"\\n\")"
   ]
  },
  {
   "cell_type": "markdown",
   "metadata": {
    "papermill": {
     "duration": 0.015414,
     "end_time": "2021-10-01T14:25:02.952650",
     "exception": false,
     "start_time": "2021-10-01T14:25:02.937236",
     "status": "completed"
    },
    "tags": []
   },
   "source": [
    "Polynomial Regression is a one of the types of linear regression in which the relationship between the independent variable x and dependent variable y is modeled as an nth degree polynomial.The 1-degree polynomial is a simple linear regression; therefore, the value of degree must be greater than 1 in Polynomial Regression."
   ]
  },
  {
   "cell_type": "code",
   "execution_count": 10,
   "metadata": {
    "execution": {
     "iopub.execute_input": "2021-10-01T14:25:02.987124Z",
     "iopub.status.busy": "2021-10-01T14:25:02.986626Z",
     "iopub.status.idle": "2021-10-01T14:25:03.174254Z",
     "shell.execute_reply": "2021-10-01T14:25:03.174910Z",
     "shell.execute_reply.started": "2021-10-01T14:22:59.255926Z"
    },
    "papermill": {
     "duration": 0.206188,
     "end_time": "2021-10-01T14:25:03.175149",
     "exception": false,
     "start_time": "2021-10-01T14:25:02.968961",
     "status": "completed"
    },
    "tags": []
   },
   "outputs": [
    {
     "data": {
      "image/png": "[encoded data removed]",
      "text/plain": [
       "<Figure size 432x288 with 1 Axes>"
      ]
     },
     "metadata": {
      "needs_background": "light"
     },
     "output_type": "display_data"
    }
   ],
   "source": [
    "from sklearn.preprocessing import PolynomialFeatures\n",
    "from sklearn.pipeline import make_pipeline\n",
    "poly_reg=make_pipeline(PolynomialFeatures(degree=2),LinearRegression())\n",
    "poly_reg_model=poly_reg.fit(X,y)\n",
    "plt.scatter(X,y, color = 'red')\n",
    "plt.plot(X,poly_reg_model.predict(X),color=\"black\")\n",
    "plt.title(\"Polynomial regression with degree 2\")\n",
    "plt.xlabel('Position level')\n",
    "plt.ylabel('Salary')\n",
    "plt.show()"
   ]
  },
  {
   "cell_type": "code",
   "execution_count": 11,
   "metadata": {
    "execution": {
     "iopub.execute_input": "2021-10-01T14:25:03.214284Z",
     "iopub.status.busy": "2021-10-01T14:25:03.211498Z",
     "iopub.status.idle": "2021-10-01T14:25:03.216860Z",
     "shell.execute_reply": "2021-10-01T14:25:03.217258Z",
     "shell.execute_reply.started": "2021-10-01T14:22:59.450813Z"
    },
    "papermill": {
     "duration": 0.024864,
     "end_time": "2021-10-01T14:25:03.217403",
     "exception": false,
     "start_time": "2021-10-01T14:25:03.192539",
     "status": "completed"
    },
    "tags": []
   },
   "outputs": [
    {
     "name": "stdout",
     "output_type": "stream",
     "text": [
      "polynomial regression with degree 2 \n",
      "\n",
      "r2= 0.9162082221443942 \n",
      "\n"
     ]
    }
   ],
   "source": [
    "from sklearn.metrics import r2_score\n",
    "predict_poly_reg=poly_reg_model.predict(X)\n",
    "r2=r2_score(y,predict_poly_reg)\n",
    "print(\"polynomial regression with degree 2 \\n\")\n",
    "print(\"r2=\",r2,\"\\n\")"
   ]
  },
  {
   "cell_type": "code",
   "execution_count": 12,
   "metadata": {
    "execution": {
     "iopub.execute_input": "2021-10-01T14:25:03.364808Z",
     "iopub.status.busy": "2021-10-01T14:25:03.362668Z",
     "iopub.status.idle": "2021-10-01T14:25:03.529079Z",
     "shell.execute_reply": "2021-10-01T14:25:03.529488Z",
     "shell.execute_reply.started": "2021-10-01T14:22:59.460152Z"
    },
    "papermill": {
     "duration": 0.296603,
     "end_time": "2021-10-01T14:25:03.529648",
     "exception": false,
     "start_time": "2021-10-01T14:25:03.233045",
     "status": "completed"
    },
    "tags": []
   },
   "outputs": [
    {
     "data": {
      "image/png": "[encoded data removed]",
      "text/plain": [
       "<Figure size 432x288 with 1 Axes>"
      ]
     },
     "metadata": {
      "needs_background": "light"
     },
     "output_type": "display_data"
    }
   ],
   "source": [
    "poly_reg=make_pipeline(PolynomialFeatures(degree=4),LinearRegression())\n",
    "model=poly_reg.fit(X,y)\n",
    "plt.scatter(X,y, color = 'red')\n",
    "plt.plot(X,model.predict(X),color=\"black\")\n",
    "plt.title(\"Polynomial regression with degree 4\")\n",
    "plt.xlabel('Position level')\n",
    "plt.ylabel('Salary')\n",
    "plt.show()"
   ]
  },
  {
   "cell_type": "code",
   "execution_count": 13,
   "metadata": {
    "execution": {
     "iopub.execute_input": "2021-10-01T14:25:03.571042Z",
     "iopub.status.busy": "2021-10-01T14:25:03.570499Z",
     "iopub.status.idle": "2021-10-01T14:25:03.573913Z",
     "shell.execute_reply": "2021-10-01T14:25:03.574429Z",
     "shell.execute_reply.started": "2021-10-01T14:22:59.649018Z"
    },
    "papermill": {
     "duration": 0.0274,
     "end_time": "2021-10-01T14:25:03.574575",
     "exception": false,
     "start_time": "2021-10-01T14:25:03.547175",
     "status": "completed"
    },
    "tags": []
   },
   "outputs": [
    {
     "name": "stdout",
     "output_type": "stream",
     "text": [
      "polynomial regression with degree 4 \n",
      "\n",
      "r2= 0.9973922891706615 \n",
      "\n"
     ]
    }
   ],
   "source": [
    "# Increasing degree of the polynomial, the complexity of the model also increases.\n",
    "# Overfitting problem.\n",
    "# Training error will be low & test error will be high\n",
    "from sklearn.metrics import r2_score\n",
    "predict_=model.predict(X)\n",
    "r2=r2_score(y,predict_)\n",
    "print(\"polynomial regression with degree 4 \\n\") \n",
    "print(\"r2=\",r2,\"\\n\")"
   ]
  },
  {
   "cell_type": "code",
   "execution_count": 14,
   "metadata": {
    "execution": {
     "iopub.execute_input": "2021-10-01T14:25:03.613696Z",
     "iopub.status.busy": "2021-10-01T14:25:03.613075Z",
     "iopub.status.idle": "2021-10-01T14:25:03.617530Z",
     "shell.execute_reply": "2021-10-01T14:25:03.618005Z",
     "shell.execute_reply.started": "2021-10-01T14:22:59.656931Z"
    },
    "papermill": {
     "duration": 0.024671,
     "end_time": "2021-10-01T14:25:03.618136",
     "exception": false,
     "start_time": "2021-10-01T14:25:03.593465",
     "status": "completed"
    },
    "tags": []
   },
   "outputs": [
    {
     "data": {
      "text/plain": [
       "array([451696.96969697])"
      ]
     },
     "execution_count": 14,
     "metadata": {},
     "output_type": "execute_result"
    }
   ],
   "source": [
    "# predicted value using linear regression\n",
    "predict_= lr_model.predict([[8]])\n",
    "predict_"
   ]
  },
  {
   "cell_type": "code",
   "execution_count": 15,
   "metadata": {
    "execution": {
     "iopub.execute_input": "2021-10-01T14:25:03.655061Z",
     "iopub.status.busy": "2021-10-01T14:25:03.654532Z",
     "iopub.status.idle": "2021-10-01T14:25:03.658914Z",
     "shell.execute_reply": "2021-10-01T14:25:03.659417Z",
     "shell.execute_reply.started": "2021-10-01T14:22:59.679588Z"
    },
    "papermill": {
     "duration": 0.024234,
     "end_time": "2021-10-01T14:25:03.659554",
     "exception": false,
     "start_time": "2021-10-01T14:25:03.635320",
     "status": "completed"
    },
    "tags": []
   },
   "outputs": [
    {
     "data": {
      "text/plain": [
       "array([289994.17249417])"
      ]
     },
     "execution_count": 15,
     "metadata": {},
     "output_type": "execute_result"
    }
   ],
   "source": [
    "# predicted value using polynomial regression\n",
    "predict_= model.predict([[8]])\n",
    "predict_"
   ]
  },
  {
   "cell_type": "code",
   "execution_count": 16,
   "metadata": {
    "execution": {
     "iopub.execute_input": "2021-10-01T14:25:03.696287Z",
     "iopub.status.busy": "2021-10-01T14:25:03.695815Z",
     "iopub.status.idle": "2021-10-01T14:25:03.703388Z",
     "shell.execute_reply": "2021-10-01T14:25:03.703820Z",
     "shell.execute_reply.started": "2021-10-01T14:22:59.689502Z"
    },
    "papermill": {
     "duration": 0.027042,
     "end_time": "2021-10-01T14:25:03.703935",
     "exception": false,
     "start_time": "2021-10-01T14:25:03.676893",
     "status": "completed"
    },
    "tags": []
   },
   "outputs": [
    {
     "data": {
      "text/html": [
       "<div>\n",
       "<style scoped>\n",
       "    .dataframe tbody tr th:only-of-type {\n",
       "        vertical-align: middle;\n",
       "    }\n",
       "\n",
       "    .dataframe tbody tr th {\n",
       "        vertical-align: top;\n",
       "    }\n",
       "\n",
       "    .dataframe thead th {\n",
       "        text-align: right;\n",
       "    }\n",
       "</style>\n",
       "<table border=\"1\" class=\"dataframe\">\n",
       "  <thead>\n",
       "    <tr style=\"text-align: right;\">\n",
       "      <th></th>\n",
       "      <th>Position</th>\n",
       "      <th>Level</th>\n",
       "      <th>Salary</th>\n",
       "    </tr>\n",
       "  </thead>\n",
       "  <tbody>\n",
       "    <tr>\n",
       "      <th>7</th>\n",
       "      <td>Senior Partner</td>\n",
       "      <td>8</td>\n",
       "      <td>300000</td>\n",
       "    </tr>\n",
       "  </tbody>\n",
       "</table>\n",
       "</div>"
      ],
      "text/plain": [
       "         Position  Level  Salary\n",
       "7  Senior Partner      8  300000"
      ]
     },
     "execution_count": 16,
     "metadata": {},
     "output_type": "execute_result"
    }
   ],
   "source": [
    "df.loc[df['Level'] == 8] # actual value "
   ]
  },
  {
   "cell_type": "markdown",
   "metadata": {},
   "source": [
    "                                                                                                                Dhanya Jayan"
   ]
  }
 ],
 "metadata": {
  "kernelspec": {
   "display_name": "Python 3",
   "language": "python",
   "name": "python3"
  },
  "language_info": {
   "codemirror_mode": {
    "name": "ipython",
    "version": 3
   },
   "file_extension": ".py",
   "mimetype": "text/x-python",
   "name": "python",
   "nbconvert_exporter": "python",
   "pygments_lexer": "ipython3",
   "version": "3.7.4"
  },
  "papermill": {
   "default_parameters": {},
   "duration": 10.644067,
   "end_time": "2021-10-01T14:25:05.036662",
   "environment_variables": {},
   "exception": null,
   "input_path": "__notebook__.ipynb",
   "output_path": "__notebook__.ipynb",
   "parameters": {},
   "start_time": "2021-10-01T14:24:54.392595",
   "version": "2.3.3"
  }
 },
 "nbformat": 4,
 "nbformat_minor": 5
}
