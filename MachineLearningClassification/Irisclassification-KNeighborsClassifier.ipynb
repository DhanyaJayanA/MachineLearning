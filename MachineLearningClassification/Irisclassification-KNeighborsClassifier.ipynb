{
 "cells": [
  {
   "cell_type": "markdown",
   "metadata": {},
   "source": [
    "### IrisClassification using KNeighborsClassifier"
   ]
  },
  {
   "cell_type": "code",
   "execution_count": 2,
   "metadata": {
    "execution": {
     "iopub.execute_input": "2021-11-08T08:37:25.951752Z",
     "iopub.status.busy": "2021-11-08T08:37:25.951235Z",
     "iopub.status.idle": "2021-11-08T08:37:27.154995Z",
     "shell.execute_reply": "2021-11-08T08:37:27.154334Z",
     "shell.execute_reply.started": "2021-11-08T08:35:05.274189Z"
    },
    "papermill": {
     "duration": 1.229197,
     "end_time": "2021-11-08T08:37:27.155139",
     "exception": false,
     "start_time": "2021-11-08T08:37:25.925942",
     "status": "completed"
    },
    "tags": []
   },
   "outputs": [],
   "source": [
    "import pandas as pd \n",
    "import seaborn as sns\n",
    "import numpy as np\n",
    "import matplotlib.pyplot as plt\n",
    "from sklearn import metrics\n",
    "from sklearn.metrics import confusion_matrix,accuracy_score, precision_score,recall_score\n",
    "from sklearn.preprocessing import StandardScaler\n",
    "from sklearn.model_selection import train_test_split\n",
    "from sklearn.neighbors import KNeighborsClassifier"
   ]
  },
  {
   "cell_type": "code",
   "execution_count": 3,
   "metadata": {
    "execution": {
     "iopub.execute_input": "2021-11-08T08:37:27.211035Z",
     "iopub.status.busy": "2021-11-08T08:37:27.210361Z",
     "iopub.status.idle": "2021-11-08T08:37:27.251745Z",
     "shell.execute_reply": "2021-11-08T08:37:27.252230Z",
     "shell.execute_reply.started": "2021-11-08T08:35:05.288146Z"
    },
    "papermill": {
     "duration": 0.07302,
     "end_time": "2021-11-08T08:37:27.252406",
     "exception": false,
     "start_time": "2021-11-08T08:37:27.179386",
     "status": "completed"
    },
    "tags": []
   },
   "outputs": [
    {
     "data": {
      "text/html": [
       "<div>\n",
       "<style scoped>\n",
       "    .dataframe tbody tr th:only-of-type {\n",
       "        vertical-align: middle;\n",
       "    }\n",
       "\n",
       "    .dataframe tbody tr th {\n",
       "        vertical-align: top;\n",
       "    }\n",
       "\n",
       "    .dataframe thead th {\n",
       "        text-align: right;\n",
       "    }\n",
       "</style>\n",
       "<table border=\"1\" class=\"dataframe\">\n",
       "  <thead>\n",
       "    <tr style=\"text-align: right;\">\n",
       "      <th></th>\n",
       "      <th>Id</th>\n",
       "      <th>SepalLengthCm</th>\n",
       "      <th>SepalWidthCm</th>\n",
       "      <th>PetalLengthCm</th>\n",
       "      <th>PetalWidthCm</th>\n",
       "      <th>Species</th>\n",
       "    </tr>\n",
       "  </thead>\n",
       "  <tbody>\n",
       "    <tr>\n",
       "      <th>0</th>\n",
       "      <td>1</td>\n",
       "      <td>5.1</td>\n",
       "      <td>3.5</td>\n",
       "      <td>1.4</td>\n",
       "      <td>0.2</td>\n",
       "      <td>Iris-setosa</td>\n",
       "    </tr>\n",
       "    <tr>\n",
       "      <th>1</th>\n",
       "      <td>2</td>\n",
       "      <td>4.9</td>\n",
       "      <td>3.0</td>\n",
       "      <td>1.4</td>\n",
       "      <td>0.2</td>\n",
       "      <td>Iris-setosa</td>\n",
       "    </tr>\n",
       "    <tr>\n",
       "      <th>2</th>\n",
       "      <td>3</td>\n",
       "      <td>4.7</td>\n",
       "      <td>3.2</td>\n",
       "      <td>1.3</td>\n",
       "      <td>0.2</td>\n",
       "      <td>Iris-setosa</td>\n",
       "    </tr>\n",
       "    <tr>\n",
       "      <th>3</th>\n",
       "      <td>4</td>\n",
       "      <td>4.6</td>\n",
       "      <td>3.1</td>\n",
       "      <td>1.5</td>\n",
       "      <td>0.2</td>\n",
       "      <td>Iris-setosa</td>\n",
       "    </tr>\n",
       "    <tr>\n",
       "      <th>4</th>\n",
       "      <td>5</td>\n",
       "      <td>5.0</td>\n",
       "      <td>3.6</td>\n",
       "      <td>1.4</td>\n",
       "      <td>0.2</td>\n",
       "      <td>Iris-setosa</td>\n",
       "    </tr>\n",
       "    <tr>\n",
       "      <th>5</th>\n",
       "      <td>6</td>\n",
       "      <td>5.4</td>\n",
       "      <td>3.9</td>\n",
       "      <td>1.7</td>\n",
       "      <td>0.4</td>\n",
       "      <td>Iris-setosa</td>\n",
       "    </tr>\n",
       "    <tr>\n",
       "      <th>6</th>\n",
       "      <td>7</td>\n",
       "      <td>4.6</td>\n",
       "      <td>3.4</td>\n",
       "      <td>1.4</td>\n",
       "      <td>0.3</td>\n",
       "      <td>Iris-setosa</td>\n",
       "    </tr>\n",
       "    <tr>\n",
       "      <th>7</th>\n",
       "      <td>8</td>\n",
       "      <td>5.0</td>\n",
       "      <td>3.4</td>\n",
       "      <td>1.5</td>\n",
       "      <td>0.2</td>\n",
       "      <td>Iris-setosa</td>\n",
       "    </tr>\n",
       "    <tr>\n",
       "      <th>8</th>\n",
       "      <td>9</td>\n",
       "      <td>4.4</td>\n",
       "      <td>2.9</td>\n",
       "      <td>1.4</td>\n",
       "      <td>0.2</td>\n",
       "      <td>Iris-setosa</td>\n",
       "    </tr>\n",
       "    <tr>\n",
       "      <th>9</th>\n",
       "      <td>10</td>\n",
       "      <td>4.9</td>\n",
       "      <td>3.1</td>\n",
       "      <td>1.5</td>\n",
       "      <td>0.1</td>\n",
       "      <td>Iris-setosa</td>\n",
       "    </tr>\n",
       "  </tbody>\n",
       "</table>\n",
       "</div>"
      ],
      "text/plain": [
       "   Id  SepalLengthCm  SepalWidthCm  PetalLengthCm  PetalWidthCm      Species\n",
       "0   1            5.1           3.5            1.4           0.2  Iris-setosa\n",
       "1   2            4.9           3.0            1.4           0.2  Iris-setosa\n",
       "2   3            4.7           3.2            1.3           0.2  Iris-setosa\n",
       "3   4            4.6           3.1            1.5           0.2  Iris-setosa\n",
       "4   5            5.0           3.6            1.4           0.2  Iris-setosa\n",
       "5   6            5.4           3.9            1.7           0.4  Iris-setosa\n",
       "6   7            4.6           3.4            1.4           0.3  Iris-setosa\n",
       "7   8            5.0           3.4            1.5           0.2  Iris-setosa\n",
       "8   9            4.4           2.9            1.4           0.2  Iris-setosa\n",
       "9  10            4.9           3.1            1.5           0.1  Iris-setosa"
      ]
     },
     "execution_count": 3,
     "metadata": {},
     "output_type": "execute_result"
    }
   ],
   "source": [
    "df=pd.read_csv(\"Iris.csv\") # Read csv dataset\n",
    "df.head(10)"
   ]
  },
  {
   "cell_type": "code",
   "execution_count": 5,
   "metadata": {
    "execution": {
     "iopub.execute_input": "2021-11-08T08:37:27.364086Z",
     "iopub.status.busy": "2021-11-08T08:37:27.363477Z",
     "iopub.status.idle": "2021-11-08T08:37:27.368610Z",
     "shell.execute_reply": "2021-11-08T08:37:27.369104Z",
     "shell.execute_reply.started": "2021-11-08T08:35:05.322804Z"
    },
    "papermill": {
     "duration": 0.032013,
     "end_time": "2021-11-08T08:37:27.369262",
     "exception": false,
     "start_time": "2021-11-08T08:37:27.337249",
     "status": "completed"
    },
    "tags": []
   },
   "outputs": [
    {
     "data": {
      "text/plain": [
       "Index(['Id', 'SepalLengthCm', 'SepalWidthCm', 'PetalLengthCm', 'PetalWidthCm',\n",
       "       'Species'],\n",
       "      dtype='object')"
      ]
     },
     "execution_count": 5,
     "metadata": {},
     "output_type": "execute_result"
    }
   ],
   "source": [
    "df.columns"
   ]
  },
  {
   "cell_type": "code",
   "execution_count": 6,
   "metadata": {
    "execution": {
     "iopub.execute_input": "2021-11-08T08:37:27.422420Z",
     "iopub.status.busy": "2021-11-08T08:37:27.421875Z",
     "iopub.status.idle": "2021-11-08T08:37:27.427461Z",
     "shell.execute_reply": "2021-11-08T08:37:27.427934Z",
     "shell.execute_reply.started": "2021-11-08T08:35:05.335955Z"
    },
    "papermill": {
     "duration": 0.033158,
     "end_time": "2021-11-08T08:37:27.428094",
     "exception": false,
     "start_time": "2021-11-08T08:37:27.394936",
     "status": "completed"
    },
    "tags": []
   },
   "outputs": [
    {
     "data": {
      "text/plain": [
       "Id                 int64\n",
       "SepalLengthCm    float64\n",
       "SepalWidthCm     float64\n",
       "PetalLengthCm    float64\n",
       "PetalWidthCm     float64\n",
       "Species           object\n",
       "dtype: object"
      ]
     },
     "execution_count": 6,
     "metadata": {},
     "output_type": "execute_result"
    }
   ],
   "source": [
    "df.dtypes"
   ]
  },
  {
   "cell_type": "code",
   "execution_count": 7,
   "metadata": {
    "execution": {
     "iopub.execute_input": "2021-11-08T08:37:27.479146Z",
     "iopub.status.busy": "2021-11-08T08:37:27.478580Z",
     "iopub.status.idle": "2021-11-08T08:37:27.497611Z",
     "shell.execute_reply": "2021-11-08T08:37:27.497001Z",
     "shell.execute_reply.started": "2021-11-08T08:35:05.349712Z"
    },
    "papermill": {
     "duration": 0.045461,
     "end_time": "2021-11-08T08:37:27.497743",
     "exception": false,
     "start_time": "2021-11-08T08:37:27.452282",
     "status": "completed"
    },
    "tags": []
   },
   "outputs": [
    {
     "name": "stdout",
     "output_type": "stream",
     "text": [
      "<class 'pandas.core.frame.DataFrame'>\n",
      "RangeIndex: 150 entries, 0 to 149\n",
      "Data columns (total 6 columns):\n",
      " #   Column         Non-Null Count  Dtype  \n",
      "---  ------         --------------  -----  \n",
      " 0   Id             150 non-null    int64  \n",
      " 1   SepalLengthCm  150 non-null    float64\n",
      " 2   SepalWidthCm   150 non-null    float64\n",
      " 3   PetalLengthCm  150 non-null    float64\n",
      " 4   PetalWidthCm   150 non-null    float64\n",
      " 5   Species        150 non-null    object \n",
      "dtypes: float64(4), int64(1), object(1)\n",
      "memory usage: 7.2+ KB\n"
     ]
    }
   ],
   "source": [
    "df.info()"
   ]
  },
  {
   "cell_type": "code",
   "execution_count": 8,
   "metadata": {
    "execution": {
     "iopub.execute_input": "2021-11-08T08:37:27.554732Z",
     "iopub.status.busy": "2021-11-08T08:37:27.554010Z",
     "iopub.status.idle": "2021-11-08T08:37:27.557355Z",
     "shell.execute_reply": "2021-11-08T08:37:27.557732Z",
     "shell.execute_reply.started": "2021-11-08T08:35:05.367248Z"
    },
    "papermill": {
     "duration": 0.035361,
     "end_time": "2021-11-08T08:37:27.557900",
     "exception": false,
     "start_time": "2021-11-08T08:37:27.522539",
     "status": "completed"
    },
    "tags": []
   },
   "outputs": [
    {
     "data": {
      "text/plain": [
       "Id               0\n",
       "SepalLengthCm    0\n",
       "SepalWidthCm     0\n",
       "PetalLengthCm    0\n",
       "PetalWidthCm     0\n",
       "Species          0\n",
       "dtype: int64"
      ]
     },
     "execution_count": 8,
     "metadata": {},
     "output_type": "execute_result"
    }
   ],
   "source": [
    "df.isnull().sum() # Missing value check"
   ]
  },
  {
   "cell_type": "code",
   "execution_count": 9,
   "metadata": {
    "execution": {
     "iopub.execute_input": "2021-11-08T08:37:27.611315Z",
     "iopub.status.busy": "2021-11-08T08:37:27.610415Z",
     "iopub.status.idle": "2021-11-08T08:37:27.620892Z",
     "shell.execute_reply": "2021-11-08T08:37:27.621502Z",
     "shell.execute_reply.started": "2021-11-08T08:35:05.383820Z"
    },
    "papermill": {
     "duration": 0.039011,
     "end_time": "2021-11-08T08:37:27.621727",
     "exception": false,
     "start_time": "2021-11-08T08:37:27.582716",
     "status": "completed"
    },
    "tags": []
   },
   "outputs": [
    {
     "data": {
      "text/plain": [
       "0"
      ]
     },
     "execution_count": 9,
     "metadata": {},
     "output_type": "execute_result"
    }
   ],
   "source": [
    "df.duplicated().sum() # duplicate value check"
   ]
  },
  {
   "cell_type": "code",
   "execution_count": 10,
   "metadata": {
    "execution": {
     "iopub.execute_input": "2021-11-08T08:37:27.696754Z",
     "iopub.status.busy": "2021-11-08T08:37:27.696025Z",
     "iopub.status.idle": "2021-11-08T08:37:27.699234Z",
     "shell.execute_reply": "2021-11-08T08:37:27.699741Z",
     "shell.execute_reply.started": "2021-11-08T08:35:05.504832Z"
    },
    "papermill": {
     "duration": 0.042969,
     "end_time": "2021-11-08T08:37:27.699926",
     "exception": false,
     "start_time": "2021-11-08T08:37:27.656957",
     "status": "completed"
    },
    "tags": []
   },
   "outputs": [
    {
     "data": {
      "text/plain": [
       "array(['Iris-setosa', 'Iris-versicolor', 'Iris-virginica'], dtype=object)"
      ]
     },
     "execution_count": 10,
     "metadata": {},
     "output_type": "execute_result"
    }
   ],
   "source": [
    "df.Species.unique() # distinct values in species"
   ]
  },
  {
   "cell_type": "code",
   "execution_count": 11,
   "metadata": {
    "execution": {
     "iopub.execute_input": "2021-11-08T08:37:27.756610Z",
     "iopub.status.busy": "2021-11-08T08:37:27.755717Z",
     "iopub.status.idle": "2021-11-08T08:37:27.908065Z",
     "shell.execute_reply": "2021-11-08T08:37:27.907453Z",
     "shell.execute_reply.started": "2021-11-08T08:35:05.514005Z"
    },
    "papermill": {
     "duration": 0.182032,
     "end_time": "2021-11-08T08:37:27.908206",
     "exception": false,
     "start_time": "2021-11-08T08:37:27.726174",
     "status": "completed"
    },
    "tags": []
   },
   "outputs": [
    {
     "name": "stdout",
     "output_type": "stream",
     "text": [
      "Iris-versicolor    50\n",
      "Iris-setosa        50\n",
      "Iris-virginica     50\n",
      "Name: Species, dtype: int64\n"
     ]
    },
    {
     "data": {
      "image/png": "[encoded data removed]",
      "text/plain": [
       "<Figure size 432x288 with 1 Axes>"
      ]
     },
     "metadata": {
      "needs_background": "light"
     },
     "output_type": "display_data"
    }
   ],
   "source": [
    "sns.countplot(x=\"Species\",data=df) \n",
    "print(df[\"Species\"].value_counts()) # check for balanced or imbalanced dataset"
   ]
  },
  {
   "cell_type": "code",
   "execution_count": 12,
   "metadata": {
    "execution": {
     "iopub.execute_input": "2021-11-08T08:37:27.991926Z",
     "iopub.status.busy": "2021-11-08T08:37:27.985969Z",
     "iopub.status.idle": "2021-11-08T08:37:30.247695Z",
     "shell.execute_reply": "2021-11-08T08:37:30.247247Z",
     "shell.execute_reply.started": "2021-11-08T08:35:05.654185Z"
    },
    "papermill": {
     "duration": 2.313337,
     "end_time": "2021-11-08T08:37:30.247843",
     "exception": false,
     "start_time": "2021-11-08T08:37:27.934506",
     "status": "completed"
    },
    "tags": []
   },
   "outputs": [
    {
     "data": {
      "image/png": "[encoded data removed]",
      "text/plain": [
       "<Figure size 463.25x360 with 1 Axes>"
      ]
     },
     "metadata": {
      "needs_background": "light"
     },
     "output_type": "display_data"
    },
    {
     "data": {
      "image/png": "[encoded data removed]",
      "text/plain": [
       "<Figure size 463.25x360 with 1 Axes>"
      ]
     },
     "metadata": {
      "needs_background": "light"
     },
     "output_type": "display_data"
    },
    {
     "data": {
      "image/png": "[encoded data removed]",
      "text/plain": [
       "<Figure size 463.25x360 with 1 Axes>"
      ]
     },
     "metadata": {
      "needs_background": "light"
     },
     "output_type": "display_data"
    },
    {
     "data": {
      "image/png": "[encoded data removed]",
      "text/plain": [
       "<Figure size 463.25x360 with 1 Axes>"
      ]
     },
     "metadata": {
      "needs_background": "light"
     },
     "output_type": "display_data"
    }
   ],
   "source": [
    "col=df[['SepalLengthCm','SepalWidthCm','PetalLengthCm','PetalWidthCm']] # distribution plot\n",
    "for i in col:\n",
    "    sns.displot(data=df, x=df[i],hue=\"Species\", kde=True)"
   ]
  },
  {
   "cell_type": "markdown",
   "metadata": {
    "papermill": {
     "duration": 0.029999,
     "end_time": "2021-11-08T08:37:30.308680",
     "exception": false,
     "start_time": "2021-11-08T08:37:30.278681",
     "status": "completed"
    },
    "tags": []
   },
   "source": [
    "#### Skewness\n",
    "* If the skewness is between -0.5 and 0.5, the data are fairly symmetrical\n",
    "* If the skewness is between -1 and  -0.5 or between 0.5 and 1, the data are moderately skewed\n",
    "* If the skewness is less than -1 or greater than 1, the data are highly skewed"
   ]
  },
  {
   "cell_type": "code",
   "execution_count": 13,
   "metadata": {
    "execution": {
     "iopub.execute_input": "2021-11-08T08:37:30.372635Z",
     "iopub.status.busy": "2021-11-08T08:37:30.371777Z",
     "iopub.status.idle": "2021-11-08T08:37:30.379141Z",
     "shell.execute_reply": "2021-11-08T08:37:30.379646Z",
     "shell.execute_reply.started": "2021-11-08T08:35:08.101322Z"
    },
    "papermill": {
     "duration": 0.040754,
     "end_time": "2021-11-08T08:37:30.379796",
     "exception": false,
     "start_time": "2021-11-08T08:37:30.339042",
     "status": "completed"
    },
    "tags": []
   },
   "outputs": [
    {
     "data": {
      "text/plain": [
       "SepalLengthCm    0.314911\n",
       "SepalWidthCm     0.334053\n",
       "PetalLengthCm   -0.274464\n",
       "PetalWidthCm    -0.104997\n",
       "dtype: float64"
      ]
     },
     "execution_count": 13,
     "metadata": {},
     "output_type": "execute_result"
    }
   ],
   "source": [
    "col.skew() # skewness \n"
   ]
  },
  {
   "cell_type": "markdown",
   "metadata": {
    "papermill": {
     "duration": 0.030229,
     "end_time": "2021-11-08T08:37:30.441757",
     "exception": false,
     "start_time": "2021-11-08T08:37:30.411528",
     "status": "completed"
    },
    "tags": []
   },
   "source": [
    "#### Kurtosis\n",
    "* Kurtosis is one of the two measures that quantify shape of a distribution. kutosis determine the volume of the outlier.\n",
    "* If the distribution is tall and thin it is called a leptokurtic distribution(Kurtosis > 3).\n",
    "* A flat distribution where the values are moderately spread out is called platykurtic(Kurtosis <3) distribution.\n",
    "* A distribution whose shape is in between a leptokurtic distribution and a platykurtic distribution is called a mesokurtic(Kurtosis=3) distribution. A mesokurtic distribution looks more close to a normal distribution.\n",
    "* Kurtosis is sometimes reported as “excess kurtosis”. Excess kurtosis is determined by subtracting 3 from the kurtosis. This makes the normal distribution kurtosis equal 0.\n",
    "* Excess Kurtosis for Normal Distribution = 3–3 = 0 (mesokurtic Kurtosis =3 )\n",
    "* The lowest value of Excess Kurtosis is when Kurtosis is 1 = 1–3 = -2 (platykurtic Kurtosis <3)\n",
    "* (Kurtosis > 3) leptokurtic"
   ]
  },
  {
   "cell_type": "code",
   "execution_count": 14,
   "metadata": {
    "execution": {
     "iopub.execute_input": "2021-11-08T08:37:30.505860Z",
     "iopub.status.busy": "2021-11-08T08:37:30.505318Z",
     "iopub.status.idle": "2021-11-08T08:37:30.512606Z",
     "shell.execute_reply": "2021-11-08T08:37:30.513054Z",
     "shell.execute_reply.started": "2021-11-08T08:35:08.111879Z"
    },
    "papermill": {
     "duration": 0.040859,
     "end_time": "2021-11-08T08:37:30.513217",
     "exception": false,
     "start_time": "2021-11-08T08:37:30.472358",
     "status": "completed"
    },
    "tags": []
   },
   "outputs": [
    {
     "data": {
      "text/plain": [
       "SepalLengthCm   -0.552064\n",
       "SepalWidthCm     0.290781\n",
       "PetalLengthCm   -1.401921\n",
       "PetalWidthCm    -1.339754\n",
       "dtype: float64"
      ]
     },
     "execution_count": 14,
     "metadata": {},
     "output_type": "execute_result"
    }
   ],
   "source": [
    "col.kurt()"
   ]
  },
  {
   "cell_type": "code",
   "execution_count": 15,
   "metadata": {
    "execution": {
     "iopub.execute_input": "2021-11-08T08:37:30.578819Z",
     "iopub.status.busy": "2021-11-08T08:37:30.578297Z",
     "iopub.status.idle": "2021-11-08T08:37:30.589596Z",
     "shell.execute_reply": "2021-11-08T08:37:30.590131Z",
     "shell.execute_reply.started": "2021-11-08T08:35:08.126015Z"
    },
    "papermill": {
     "duration": 0.04578,
     "end_time": "2021-11-08T08:37:30.590309",
     "exception": false,
     "start_time": "2021-11-08T08:37:30.544529",
     "status": "completed"
    },
    "tags": []
   },
   "outputs": [
    {
     "data": {
      "text/html": [
       "<div>\n",
       "<style scoped>\n",
       "    .dataframe tbody tr th:only-of-type {\n",
       "        vertical-align: middle;\n",
       "    }\n",
       "\n",
       "    .dataframe tbody tr th {\n",
       "        vertical-align: top;\n",
       "    }\n",
       "\n",
       "    .dataframe thead th {\n",
       "        text-align: right;\n",
       "    }\n",
       "</style>\n",
       "<table border=\"1\" class=\"dataframe\">\n",
       "  <thead>\n",
       "    <tr style=\"text-align: right;\">\n",
       "      <th></th>\n",
       "      <th>SepalLengthCm</th>\n",
       "      <th>SepalWidthCm</th>\n",
       "      <th>PetalLengthCm</th>\n",
       "      <th>PetalWidthCm</th>\n",
       "    </tr>\n",
       "  </thead>\n",
       "  <tbody>\n",
       "    <tr>\n",
       "      <th>0</th>\n",
       "      <td>5.1</td>\n",
       "      <td>3.5</td>\n",
       "      <td>1.4</td>\n",
       "      <td>0.2</td>\n",
       "    </tr>\n",
       "    <tr>\n",
       "      <th>1</th>\n",
       "      <td>4.9</td>\n",
       "      <td>3.0</td>\n",
       "      <td>1.4</td>\n",
       "      <td>0.2</td>\n",
       "    </tr>\n",
       "    <tr>\n",
       "      <th>2</th>\n",
       "      <td>4.7</td>\n",
       "      <td>3.2</td>\n",
       "      <td>1.3</td>\n",
       "      <td>0.2</td>\n",
       "    </tr>\n",
       "    <tr>\n",
       "      <th>3</th>\n",
       "      <td>4.6</td>\n",
       "      <td>3.1</td>\n",
       "      <td>1.5</td>\n",
       "      <td>0.2</td>\n",
       "    </tr>\n",
       "    <tr>\n",
       "      <th>4</th>\n",
       "      <td>5.0</td>\n",
       "      <td>3.6</td>\n",
       "      <td>1.4</td>\n",
       "      <td>0.2</td>\n",
       "    </tr>\n",
       "  </tbody>\n",
       "</table>\n",
       "</div>"
      ],
      "text/plain": [
       "   SepalLengthCm  SepalWidthCm  PetalLengthCm  PetalWidthCm\n",
       "0            5.1           3.5            1.4           0.2\n",
       "1            4.9           3.0            1.4           0.2\n",
       "2            4.7           3.2            1.3           0.2\n",
       "3            4.6           3.1            1.5           0.2\n",
       "4            5.0           3.6            1.4           0.2"
      ]
     },
     "execution_count": 15,
     "metadata": {},
     "output_type": "execute_result"
    }
   ],
   "source": [
    "data=df[[\"SepalLengthCm\",\"SepalWidthCm\",\"PetalLengthCm\",\"PetalWidthCm\"]] # column selection\n",
    "data.head()"
   ]
  },
  {
   "cell_type": "code",
   "execution_count": 16,
   "metadata": {
    "execution": {
     "iopub.execute_input": "2021-11-08T08:37:30.660095Z",
     "iopub.status.busy": "2021-11-08T08:37:30.658816Z",
     "iopub.status.idle": "2021-11-08T08:37:31.032625Z",
     "shell.execute_reply": "2021-11-08T08:37:31.032185Z",
     "shell.execute_reply.started": "2021-11-08T08:35:08.146841Z"
    },
    "papermill": {
     "duration": 0.410887,
     "end_time": "2021-11-08T08:37:31.032760",
     "exception": false,
     "start_time": "2021-11-08T08:37:30.621873",
     "status": "completed"
    },
    "tags": []
   },
   "outputs": [
    {
     "data": {
      "image/png": "[encoded data removed]",
      "text/plain": [
       "<Figure size 432x288 with 1 Axes>"
      ]
     },
     "metadata": {
      "needs_background": "light"
     },
     "output_type": "display_data"
    },
    {
     "data": {
      "image/png": "[encoded data removed]",
      "text/plain": [
       "<Figure size 432x288 with 1 Axes>"
      ]
     },
     "metadata": {
      "needs_background": "light"
     },
     "output_type": "display_data"
    },
    {
     "data": {
      "image/png": "[encoded data removed]",
      "text/plain": [
       "<Figure size 432x288 with 1 Axes>"
      ]
     },
     "metadata": {
      "needs_background": "light"
     },
     "output_type": "display_data"
    },
    {
     "data": {
      "image/png": "[encoded data removed]",
      "text/plain": [
       "<Figure size 432x288 with 1 Axes>"
      ]
     },
     "metadata": {
      "needs_background": "light"
     },
     "output_type": "display_data"
    }
   ],
   "source": [
    " # boxplot- for outlier detection \n",
    "for i in data:\n",
    "    sns.boxplot(x=data[i])\n",
    "    plt.show()"
   ]
  },
  {
   "cell_type": "code",
   "execution_count": 17,
   "metadata": {
    "execution": {
     "iopub.execute_input": "2021-11-08T08:37:31.112434Z",
     "iopub.status.busy": "2021-11-08T08:37:31.109172Z",
     "iopub.status.idle": "2021-11-08T08:37:31.404734Z",
     "shell.execute_reply": "2021-11-08T08:37:31.404283Z",
     "shell.execute_reply.started": "2021-11-08T08:35:08.572206Z"
    },
    "papermill": {
     "duration": 0.337773,
     "end_time": "2021-11-08T08:37:31.404889",
     "exception": false,
     "start_time": "2021-11-08T08:37:31.067116",
     "status": "completed"
    },
    "tags": []
   },
   "outputs": [
    {
     "name": "stdout",
     "output_type": "stream",
     "text": [
      "min_value 2.2\n",
      "max_value 4.0\n",
      "Q1= 2.8 Q3= 3.3 IQR= 0.5 lower_bound= 2.05 Upper_bound= 4.05\n"
     ]
    },
    {
     "data": {
      "image/png": "[encoded data removed]",
      "text/plain": [
       "<Figure size 432x288 with 1 Axes>"
      ]
     },
     "metadata": {
      "needs_background": "light"
     },
     "output_type": "display_data"
    }
   ],
   "source": [
    "for i in df[\"SepalWidthCm\"]: # outlier removal\n",
    "    Q1=df[\"SepalWidthCm\"].quantile(0.25)\n",
    "    Q3=df[\"SepalWidthCm\"].quantile(0.75)\n",
    "    IQR=Q3-Q1\n",
    "    lower=Q1-1.5*IQR\n",
    "    upper=Q3+1.5*IQR \n",
    "    if i>upper or i<lower:\n",
    "        df[\"SepalWidthCm\"]=df[\"SepalWidthCm\"].replace(i,np.median(df[\"SepalWidthCm\"]))\n",
    "sns.boxplot(x=df[\"SepalWidthCm\"])\n",
    "print(\"min_value\",df[\"SepalWidthCm\"].min()) # IQR outlier detection\n",
    "print(\"max_value\",df[\"SepalWidthCm\"].max()) \n",
    "print(\"Q1=\",Q1,\"Q3=\",Q3,\"IQR=\",IQR,\"lower_bound=\",lower, \"Upper_bound=\",upper)"
   ]
  },
  {
   "cell_type": "code",
   "execution_count": 18,
   "metadata": {
    "execution": {
     "iopub.execute_input": "2021-11-08T08:37:31.481219Z",
     "iopub.status.busy": "2021-11-08T08:37:31.480458Z",
     "iopub.status.idle": "2021-11-08T08:37:31.484068Z",
     "shell.execute_reply": "2021-11-08T08:37:31.483599Z",
     "shell.execute_reply.started": "2021-11-08T08:35:08.911058Z"
    },
    "papermill": {
     "duration": 0.044279,
     "end_time": "2021-11-08T08:37:31.484208",
     "exception": false,
     "start_time": "2021-11-08T08:37:31.439929",
     "status": "completed"
    },
    "tags": []
   },
   "outputs": [
    {
     "data": {
      "text/plain": [
       "SepalLengthCm    0.685694\n",
       "SepalWidthCm     0.188004\n",
       "PetalLengthCm    3.113179\n",
       "PetalWidthCm     0.582414\n",
       "dtype: float64"
      ]
     },
     "execution_count": 18,
     "metadata": {},
     "output_type": "execute_result"
    }
   ],
   "source": [
    "data.var() # variance "
   ]
  },
  {
   "cell_type": "markdown",
   "metadata": {
    "papermill": {
     "duration": 0.034185,
     "end_time": "2021-11-08T08:37:31.552935",
     "exception": false,
     "start_time": "2021-11-08T08:37:31.518750",
     "status": "completed"
    },
    "tags": []
   },
   "source": [
    "#### Covariance\n",
    "* It is the relationship between a pair of random variables where change in one variable causes change in another variable.\n",
    "* It can take any value between -infinity to +infinity, where the negative value represents the negative relationship whereas a positive value represents the positive relationship.\n",
    "* It is used for the linear relationship between variables.\n",
    "* It gives the direction of relationship between variables."
   ]
  },
  {
   "cell_type": "code",
   "execution_count": 19,
   "metadata": {
    "execution": {
     "iopub.execute_input": "2021-11-08T08:37:31.624803Z",
     "iopub.status.busy": "2021-11-08T08:37:31.624256Z",
     "iopub.status.idle": "2021-11-08T08:37:31.638300Z",
     "shell.execute_reply": "2021-11-08T08:37:31.637667Z",
     "shell.execute_reply.started": "2021-11-08T08:35:08.922325Z"
    },
    "papermill": {
     "duration": 0.050856,
     "end_time": "2021-11-08T08:37:31.638435",
     "exception": false,
     "start_time": "2021-11-08T08:37:31.587579",
     "status": "completed"
    },
    "tags": []
   },
   "outputs": [
    {
     "data": {
      "text/html": [
       "<div>\n",
       "<style scoped>\n",
       "    .dataframe tbody tr th:only-of-type {\n",
       "        vertical-align: middle;\n",
       "    }\n",
       "\n",
       "    .dataframe tbody tr th {\n",
       "        vertical-align: top;\n",
       "    }\n",
       "\n",
       "    .dataframe thead th {\n",
       "        text-align: right;\n",
       "    }\n",
       "</style>\n",
       "<table border=\"1\" class=\"dataframe\">\n",
       "  <thead>\n",
       "    <tr style=\"text-align: right;\">\n",
       "      <th></th>\n",
       "      <th>SepalLengthCm</th>\n",
       "      <th>SepalWidthCm</th>\n",
       "      <th>PetalLengthCm</th>\n",
       "      <th>PetalWidthCm</th>\n",
       "    </tr>\n",
       "  </thead>\n",
       "  <tbody>\n",
       "    <tr>\n",
       "      <th>SepalLengthCm</th>\n",
       "      <td>0.685694</td>\n",
       "      <td>-0.039268</td>\n",
       "      <td>1.273682</td>\n",
       "      <td>0.516904</td>\n",
       "    </tr>\n",
       "    <tr>\n",
       "      <th>SepalWidthCm</th>\n",
       "      <td>-0.039268</td>\n",
       "      <td>0.188004</td>\n",
       "      <td>-0.321713</td>\n",
       "      <td>-0.117981</td>\n",
       "    </tr>\n",
       "    <tr>\n",
       "      <th>PetalLengthCm</th>\n",
       "      <td>1.273682</td>\n",
       "      <td>-0.321713</td>\n",
       "      <td>3.113179</td>\n",
       "      <td>1.296387</td>\n",
       "    </tr>\n",
       "    <tr>\n",
       "      <th>PetalWidthCm</th>\n",
       "      <td>0.516904</td>\n",
       "      <td>-0.117981</td>\n",
       "      <td>1.296387</td>\n",
       "      <td>0.582414</td>\n",
       "    </tr>\n",
       "  </tbody>\n",
       "</table>\n",
       "</div>"
      ],
      "text/plain": [
       "               SepalLengthCm  SepalWidthCm  PetalLengthCm  PetalWidthCm\n",
       "SepalLengthCm       0.685694     -0.039268       1.273682      0.516904\n",
       "SepalWidthCm       -0.039268      0.188004      -0.321713     -0.117981\n",
       "PetalLengthCm       1.273682     -0.321713       3.113179      1.296387\n",
       "PetalWidthCm        0.516904     -0.117981       1.296387      0.582414"
      ]
     },
     "execution_count": 19,
     "metadata": {},
     "output_type": "execute_result"
    }
   ],
   "source": [
    "cov_=data.cov() # covariance\n",
    "cov_"
   ]
  },
  {
   "cell_type": "markdown",
   "metadata": {
    "papermill": {
     "duration": 0.036163,
     "end_time": "2021-11-08T08:37:31.710874",
     "exception": false,
     "start_time": "2021-11-08T08:37:31.674711",
     "status": "completed"
    },
    "tags": []
   },
   "source": [
    "#### Correlation\n",
    "\n",
    "* It show whether and how strongly pairs of variables are related to each other.\n",
    "* Correlation takes values between -1 to +1, wherein values close to +1 represents strong positive correlation and values close to -1 represents strong negative correlation.\n",
    "* It gives the direction and strength of relationship between variables."
   ]
  },
  {
   "cell_type": "code",
   "execution_count": 20,
   "metadata": {
    "execution": {
     "iopub.execute_input": "2021-11-08T08:37:31.804073Z",
     "iopub.status.busy": "2021-11-08T08:37:31.802792Z",
     "iopub.status.idle": "2021-11-08T08:37:32.095960Z",
     "shell.execute_reply": "2021-11-08T08:37:32.096417Z",
     "shell.execute_reply.started": "2021-11-08T08:35:08.938840Z"
    },
    "papermill": {
     "duration": 0.350953,
     "end_time": "2021-11-08T08:37:32.096581",
     "exception": false,
     "start_time": "2021-11-08T08:37:31.745628",
     "status": "completed"
    },
    "tags": []
   },
   "outputs": [
    {
     "data": {
      "text/plain": [
       "<AxesSubplot:>"
      ]
     },
     "execution_count": 20,
     "metadata": {},
     "output_type": "execute_result"
    },
    {
     "data": {
      "image/png": "[encoded data removed]",
      "text/plain": [
       "<Figure size 432x288 with 2 Axes>"
      ]
     },
     "metadata": {
      "needs_background": "light"
     },
     "output_type": "display_data"
    }
   ],
   "source": [
    "sns.heatmap(data.corr(),annot=True,cmap=\"Blues\") # correlation "
   ]
  },
  {
   "cell_type": "code",
   "execution_count": 21,
   "metadata": {
    "execution": {
     "iopub.execute_input": "2021-11-08T08:37:32.171195Z",
     "iopub.status.busy": "2021-11-08T08:37:32.170569Z",
     "iopub.status.idle": "2021-11-08T08:37:32.453230Z",
     "shell.execute_reply": "2021-11-08T08:37:32.453704Z",
     "shell.execute_reply.started": "2021-11-08T08:35:09.273184Z"
    },
    "papermill": {
     "duration": 0.321402,
     "end_time": "2021-11-08T08:37:32.453889",
     "exception": false,
     "start_time": "2021-11-08T08:37:32.132487",
     "status": "completed"
    },
    "tags": []
   },
   "outputs": [
    {
     "data": {
      "text/plain": [
       "<AxesSubplot:xlabel='PetalWidthCm', ylabel='SepalLengthCm'>"
      ]
     },
     "execution_count": 21,
     "metadata": {},
     "output_type": "execute_result"
    },
    {
     "data": {
      "image/png": "[encoded data removed]",
      "text/plain": [
       "<Figure size 432x288 with 1 Axes>"
      ]
     },
     "metadata": {
      "needs_background": "light"
     },
     "output_type": "display_data"
    }
   ],
   "source": [
    "sns.scatterplot(x=\"PetalWidthCm\",y=\"SepalLengthCm\",data=df,hue=\"Species\") # scatterplot"
   ]
  },
  {
   "cell_type": "code",
   "execution_count": 22,
   "metadata": {
    "execution": {
     "iopub.execute_input": "2021-11-08T08:37:32.531795Z",
     "iopub.status.busy": "2021-11-08T08:37:32.531247Z",
     "iopub.status.idle": "2021-11-08T08:37:32.812823Z",
     "shell.execute_reply": "2021-11-08T08:37:32.812033Z",
     "shell.execute_reply.started": "2021-11-08T08:35:09.579984Z"
    },
    "papermill": {
     "duration": 0.321751,
     "end_time": "2021-11-08T08:37:32.813049",
     "exception": false,
     "start_time": "2021-11-08T08:37:32.491298",
     "status": "completed"
    },
    "tags": []
   },
   "outputs": [
    {
     "data": {
      "text/plain": [
       "<AxesSubplot:xlabel='SepalLengthCm', ylabel='SepalLengthCm'>"
      ]
     },
     "execution_count": 22,
     "metadata": {},
     "output_type": "execute_result"
    },
    {
     "data": {
      "image/png": "[encoded data removed]",
      "text/plain": [
       "<Figure size 432x288 with 1 Axes>"
      ]
     },
     "metadata": {
      "needs_background": "light"
     },
     "output_type": "display_data"
    }
   ],
   "source": [
    "sns.scatterplot(x=\"SepalLengthCm\",y=\"SepalLengthCm\",data=df,hue=\"Species\")"
   ]
  },
  {
   "cell_type": "code",
   "execution_count": 23,
   "metadata": {
    "execution": {
     "iopub.execute_input": "2021-11-08T08:37:32.907015Z",
     "iopub.status.busy": "2021-11-08T08:37:32.906113Z",
     "iopub.status.idle": "2021-11-08T08:37:33.205578Z",
     "shell.execute_reply": "2021-11-08T08:37:33.206234Z",
     "shell.execute_reply.started": "2021-11-08T08:35:09.897336Z"
    },
    "papermill": {
     "duration": 0.342736,
     "end_time": "2021-11-08T08:37:33.206460",
     "exception": false,
     "start_time": "2021-11-08T08:37:32.863724",
     "status": "completed"
    },
    "tags": []
   },
   "outputs": [
    {
     "data": {
      "text/plain": [
       "<AxesSubplot:xlabel='PetalWidthCm', ylabel='PetalLengthCm'>"
      ]
     },
     "execution_count": 23,
     "metadata": {},
     "output_type": "execute_result"
    },
    {
     "data": {
      "image/png": "[encoded data removed]",
      "text/plain": [
       "<Figure size 432x288 with 1 Axes>"
      ]
     },
     "metadata": {
      "needs_background": "light"
     },
     "output_type": "display_data"
    }
   ],
   "source": [
    "sns.scatterplot(x=\"PetalWidthCm\",y=\"PetalLengthCm\",data=df,hue=\"Species\")"
   ]
  },
  {
   "cell_type": "code",
   "execution_count": 24,
   "metadata": {
    "execution": {
     "iopub.execute_input": "2021-11-08T08:37:33.293484Z",
     "iopub.status.busy": "2021-11-08T08:37:33.292927Z",
     "iopub.status.idle": "2021-11-08T08:37:33.298790Z",
     "shell.execute_reply": "2021-11-08T08:37:33.299344Z",
     "shell.execute_reply.started": "2021-11-08T08:35:10.198772Z"
    },
    "papermill": {
     "duration": 0.049457,
     "end_time": "2021-11-08T08:37:33.299498",
     "exception": false,
     "start_time": "2021-11-08T08:37:33.250041",
     "status": "completed"
    },
    "tags": []
   },
   "outputs": [],
   "source": [
    "x=df.drop([\"Species\",\"Id\"],axis=1).values\n",
    "y=df[\"Species\"].values"
   ]
  },
  {
   "cell_type": "code",
   "execution_count": 25,
   "metadata": {
    "execution": {
     "iopub.execute_input": "2021-11-08T08:37:33.383437Z",
     "iopub.status.busy": "2021-11-08T08:37:33.382864Z",
     "iopub.status.idle": "2021-11-08T08:37:33.388773Z",
     "shell.execute_reply": "2021-11-08T08:37:33.389536Z",
     "shell.execute_reply.started": "2021-11-08T08:35:10.206322Z"
    },
    "papermill": {
     "duration": 0.049684,
     "end_time": "2021-11-08T08:37:33.389767",
     "exception": false,
     "start_time": "2021-11-08T08:37:33.340083",
     "status": "completed"
    },
    "tags": []
   },
   "outputs": [],
   "source": [
    "sc=StandardScaler()\n",
    "x=sc.fit_transform(x)\n",
    "x_train, x_test, y_train, y_test = train_test_split(x,y,test_size=0.2)"
   ]
  },
  {
   "cell_type": "code",
   "execution_count": 29,
   "metadata": {
    "execution": {
     "iopub.execute_input": "2021-11-08T08:37:34.105001Z",
     "iopub.status.busy": "2021-11-08T08:37:34.103888Z",
     "iopub.status.idle": "2021-11-08T08:37:34.109375Z",
     "shell.execute_reply": "2021-11-08T08:37:34.109879Z",
     "shell.execute_reply.started": "2021-11-08T08:35:10.644255Z"
    },
    "papermill": {
     "duration": 0.052771,
     "end_time": "2021-11-08T08:37:34.110041",
     "exception": false,
     "start_time": "2021-11-08T08:37:34.057270",
     "status": "completed"
    },
    "tags": []
   },
   "outputs": [],
   "source": [
    "from sklearn.neighbors import KNeighborsClassifier\n",
    "knn=KNeighborsClassifier(n_neighbors=3) \n",
    "knn.fit(x_train,y_train)\n",
    "pred=knn.predict(x_test) #To predict the class label "
   ]
  },
  {
   "cell_type": "code",
   "execution_count": 30,
   "metadata": {
    "execution": {
     "iopub.execute_input": "2021-11-08T08:37:34.196593Z",
     "iopub.status.busy": "2021-11-08T08:37:34.195706Z",
     "iopub.status.idle": "2021-11-08T08:37:34.207233Z",
     "shell.execute_reply": "2021-11-08T08:37:34.207746Z",
     "shell.execute_reply.started": "2021-11-08T08:35:10.655426Z"
    },
    "papermill": {
     "duration": 0.056177,
     "end_time": "2021-11-08T08:37:34.207923",
     "exception": false,
     "start_time": "2021-11-08T08:37:34.151746",
     "status": "completed"
    },
    "tags": []
   },
   "outputs": [
    {
     "data": {
      "text/html": [
       "<div>\n",
       "<style scoped>\n",
       "    .dataframe tbody tr th:only-of-type {\n",
       "        vertical-align: middle;\n",
       "    }\n",
       "\n",
       "    .dataframe tbody tr th {\n",
       "        vertical-align: top;\n",
       "    }\n",
       "\n",
       "    .dataframe thead th {\n",
       "        text-align: right;\n",
       "    }\n",
       "</style>\n",
       "<table border=\"1\" class=\"dataframe\">\n",
       "  <thead>\n",
       "    <tr style=\"text-align: right;\">\n",
       "      <th></th>\n",
       "      <th>actual</th>\n",
       "      <th>predicted</th>\n",
       "    </tr>\n",
       "  </thead>\n",
       "  <tbody>\n",
       "    <tr>\n",
       "      <th>0</th>\n",
       "      <td>Iris-virginica</td>\n",
       "      <td>Iris-virginica</td>\n",
       "    </tr>\n",
       "    <tr>\n",
       "      <th>1</th>\n",
       "      <td>Iris-setosa</td>\n",
       "      <td>Iris-setosa</td>\n",
       "    </tr>\n",
       "    <tr>\n",
       "      <th>2</th>\n",
       "      <td>Iris-setosa</td>\n",
       "      <td>Iris-setosa</td>\n",
       "    </tr>\n",
       "    <tr>\n",
       "      <th>3</th>\n",
       "      <td>Iris-virginica</td>\n",
       "      <td>Iris-versicolor</td>\n",
       "    </tr>\n",
       "    <tr>\n",
       "      <th>4</th>\n",
       "      <td>Iris-virginica</td>\n",
       "      <td>Iris-virginica</td>\n",
       "    </tr>\n",
       "    <tr>\n",
       "      <th>5</th>\n",
       "      <td>Iris-virginica</td>\n",
       "      <td>Iris-virginica</td>\n",
       "    </tr>\n",
       "    <tr>\n",
       "      <th>6</th>\n",
       "      <td>Iris-virginica</td>\n",
       "      <td>Iris-versicolor</td>\n",
       "    </tr>\n",
       "    <tr>\n",
       "      <th>7</th>\n",
       "      <td>Iris-setosa</td>\n",
       "      <td>Iris-setosa</td>\n",
       "    </tr>\n",
       "    <tr>\n",
       "      <th>8</th>\n",
       "      <td>Iris-virginica</td>\n",
       "      <td>Iris-virginica</td>\n",
       "    </tr>\n",
       "    <tr>\n",
       "      <th>9</th>\n",
       "      <td>Iris-setosa</td>\n",
       "      <td>Iris-setosa</td>\n",
       "    </tr>\n",
       "    <tr>\n",
       "      <th>10</th>\n",
       "      <td>Iris-virginica</td>\n",
       "      <td>Iris-virginica</td>\n",
       "    </tr>\n",
       "    <tr>\n",
       "      <th>11</th>\n",
       "      <td>Iris-setosa</td>\n",
       "      <td>Iris-setosa</td>\n",
       "    </tr>\n",
       "    <tr>\n",
       "      <th>12</th>\n",
       "      <td>Iris-setosa</td>\n",
       "      <td>Iris-setosa</td>\n",
       "    </tr>\n",
       "    <tr>\n",
       "      <th>13</th>\n",
       "      <td>Iris-versicolor</td>\n",
       "      <td>Iris-versicolor</td>\n",
       "    </tr>\n",
       "    <tr>\n",
       "      <th>14</th>\n",
       "      <td>Iris-versicolor</td>\n",
       "      <td>Iris-virginica</td>\n",
       "    </tr>\n",
       "    <tr>\n",
       "      <th>15</th>\n",
       "      <td>Iris-virginica</td>\n",
       "      <td>Iris-virginica</td>\n",
       "    </tr>\n",
       "    <tr>\n",
       "      <th>16</th>\n",
       "      <td>Iris-versicolor</td>\n",
       "      <td>Iris-versicolor</td>\n",
       "    </tr>\n",
       "    <tr>\n",
       "      <th>17</th>\n",
       "      <td>Iris-virginica</td>\n",
       "      <td>Iris-virginica</td>\n",
       "    </tr>\n",
       "    <tr>\n",
       "      <th>18</th>\n",
       "      <td>Iris-versicolor</td>\n",
       "      <td>Iris-versicolor</td>\n",
       "    </tr>\n",
       "    <tr>\n",
       "      <th>19</th>\n",
       "      <td>Iris-versicolor</td>\n",
       "      <td>Iris-versicolor</td>\n",
       "    </tr>\n",
       "    <tr>\n",
       "      <th>20</th>\n",
       "      <td>Iris-setosa</td>\n",
       "      <td>Iris-setosa</td>\n",
       "    </tr>\n",
       "    <tr>\n",
       "      <th>21</th>\n",
       "      <td>Iris-setosa</td>\n",
       "      <td>Iris-setosa</td>\n",
       "    </tr>\n",
       "    <tr>\n",
       "      <th>22</th>\n",
       "      <td>Iris-virginica</td>\n",
       "      <td>Iris-virginica</td>\n",
       "    </tr>\n",
       "    <tr>\n",
       "      <th>23</th>\n",
       "      <td>Iris-setosa</td>\n",
       "      <td>Iris-setosa</td>\n",
       "    </tr>\n",
       "    <tr>\n",
       "      <th>24</th>\n",
       "      <td>Iris-virginica</td>\n",
       "      <td>Iris-virginica</td>\n",
       "    </tr>\n",
       "    <tr>\n",
       "      <th>25</th>\n",
       "      <td>Iris-versicolor</td>\n",
       "      <td>Iris-versicolor</td>\n",
       "    </tr>\n",
       "    <tr>\n",
       "      <th>26</th>\n",
       "      <td>Iris-versicolor</td>\n",
       "      <td>Iris-versicolor</td>\n",
       "    </tr>\n",
       "    <tr>\n",
       "      <th>27</th>\n",
       "      <td>Iris-setosa</td>\n",
       "      <td>Iris-setosa</td>\n",
       "    </tr>\n",
       "    <tr>\n",
       "      <th>28</th>\n",
       "      <td>Iris-versicolor</td>\n",
       "      <td>Iris-versicolor</td>\n",
       "    </tr>\n",
       "    <tr>\n",
       "      <th>29</th>\n",
       "      <td>Iris-setosa</td>\n",
       "      <td>Iris-setosa</td>\n",
       "    </tr>\n",
       "  </tbody>\n",
       "</table>\n",
       "</div>"
      ],
      "text/plain": [
       "             actual        predicted\n",
       "0    Iris-virginica   Iris-virginica\n",
       "1       Iris-setosa      Iris-setosa\n",
       "2       Iris-setosa      Iris-setosa\n",
       "3    Iris-virginica  Iris-versicolor\n",
       "4    Iris-virginica   Iris-virginica\n",
       "5    Iris-virginica   Iris-virginica\n",
       "6    Iris-virginica  Iris-versicolor\n",
       "7       Iris-setosa      Iris-setosa\n",
       "8    Iris-virginica   Iris-virginica\n",
       "9       Iris-setosa      Iris-setosa\n",
       "10   Iris-virginica   Iris-virginica\n",
       "11      Iris-setosa      Iris-setosa\n",
       "12      Iris-setosa      Iris-setosa\n",
       "13  Iris-versicolor  Iris-versicolor\n",
       "14  Iris-versicolor   Iris-virginica\n",
       "15   Iris-virginica   Iris-virginica\n",
       "16  Iris-versicolor  Iris-versicolor\n",
       "17   Iris-virginica   Iris-virginica\n",
       "18  Iris-versicolor  Iris-versicolor\n",
       "19  Iris-versicolor  Iris-versicolor\n",
       "20      Iris-setosa      Iris-setosa\n",
       "21      Iris-setosa      Iris-setosa\n",
       "22   Iris-virginica   Iris-virginica\n",
       "23      Iris-setosa      Iris-setosa\n",
       "24   Iris-virginica   Iris-virginica\n",
       "25  Iris-versicolor  Iris-versicolor\n",
       "26  Iris-versicolor  Iris-versicolor\n",
       "27      Iris-setosa      Iris-setosa\n",
       "28  Iris-versicolor  Iris-versicolor\n",
       "29      Iris-setosa      Iris-setosa"
      ]
     },
     "execution_count": 30,
     "metadata": {},
     "output_type": "execute_result"
    }
   ],
   "source": [
    "df1=pd.DataFrame({'actual':y_test,'predicted':pred}) # actual value and predicted value\n",
    "df1"
   ]
  },
  {
   "cell_type": "code",
   "execution_count": 31,
   "metadata": {
    "execution": {
     "iopub.execute_input": "2021-11-08T08:37:34.297452Z",
     "iopub.status.busy": "2021-11-08T08:37:34.296503Z",
     "iopub.status.idle": "2021-11-08T08:37:34.307253Z",
     "shell.execute_reply": "2021-11-08T08:37:34.306733Z",
     "shell.execute_reply.started": "2021-11-08T08:35:10.676959Z"
    },
    "papermill": {
     "duration": 0.057451,
     "end_time": "2021-11-08T08:37:34.307388",
     "exception": false,
     "start_time": "2021-11-08T08:37:34.249937",
     "status": "completed"
    },
    "tags": []
   },
   "outputs": [
    {
     "name": "stdout",
     "output_type": "stream",
     "text": [
      "0.9666666666666667\n",
      "0.9\n"
     ]
    }
   ],
   "source": [
    "print(knn.score(x_train,y_train)) # knn score\n",
    "print(knn.score(x_test,y_test))"
   ]
  },
  {
   "cell_type": "code",
   "execution_count": 32,
   "metadata": {
    "execution": {
     "iopub.execute_input": "2021-11-08T08:37:34.395669Z",
     "iopub.status.busy": "2021-11-08T08:37:34.395134Z",
     "iopub.status.idle": "2021-11-08T08:37:34.630683Z",
     "shell.execute_reply": "2021-11-08T08:37:34.631093Z",
     "shell.execute_reply.started": "2021-11-08T08:35:10.695903Z"
    },
    "papermill": {
     "duration": 0.28115,
     "end_time": "2021-11-08T08:37:34.631253",
     "exception": false,
     "start_time": "2021-11-08T08:37:34.350103",
     "status": "completed"
    },
    "tags": []
   },
   "outputs": [
    {
     "name": "stdout",
     "output_type": "stream",
     "text": [
      "Accuracy_Score= 0.9 \n",
      "\n",
      "precision_score= 0.904074074074074 \n",
      "\n",
      "recall_score= 0.9 \n",
      "\n"
     ]
    },
    {
     "data": {
      "image/png": "[encoded data removed]",
      "text/plain": [
       "<Figure size 432x288 with 2 Axes>"
      ]
     },
     "metadata": {
      "needs_background": "light"
     },
     "output_type": "display_data"
    }
   ],
   "source": [
    "from sklearn import metrics\n",
    "from sklearn.metrics import confusion_matrix,accuracy_score, precision_score, recall_score\n",
    "sns.heatmap(metrics.confusion_matrix(y_test,pred),annot=True,cmap='Blues')\n",
    "print(\"Accuracy_Score=\",accuracy_score(y_test,pred),\"\\n\")\n",
    "print(\"precision_score=\",precision_score(y_test,pred,average=\"weighted\"),\"\\n\")\n",
    "print(\"recall_score=\",recall_score(y_test,pred,average='weighted'),\"\\n\")"
   ]
  },
  {
   "cell_type": "code",
   "execution_count": 33,
   "metadata": {
    "execution": {
     "iopub.execute_input": "2021-11-08T08:37:34.721675Z",
     "iopub.status.busy": "2021-11-08T08:37:34.721118Z",
     "iopub.status.idle": "2021-11-08T08:37:34.728278Z",
     "shell.execute_reply": "2021-11-08T08:37:34.728794Z",
     "shell.execute_reply.started": "2021-11-08T08:35:10.965647Z"
    },
    "papermill": {
     "duration": 0.054289,
     "end_time": "2021-11-08T08:37:34.728982",
     "exception": false,
     "start_time": "2021-11-08T08:37:34.674693",
     "status": "completed"
    },
    "tags": []
   },
   "outputs": [
    {
     "data": {
      "text/plain": [
       "array([0.        , 0.        , 0.        , 0.        , 0.        ,\n",
       "       0.        , 0.        , 0.        , 0.        , 0.        ,\n",
       "       0.        , 0.        , 0.        , 0.        , 0.        ,\n",
       "       0.        , 0.        , 0.        , 0.        , 0.        ,\n",
       "       0.        , 0.        , 0.        , 0.        , 0.        ,\n",
       "       0.        , 0.        , 0.        , 0.        , 0.        ,\n",
       "       0.        , 0.        , 0.        , 0.        , 0.        ,\n",
       "       0.        , 0.        , 0.        , 0.        , 0.        ,\n",
       "       0.        , 0.33333333, 0.        , 0.        , 0.        ,\n",
       "       0.        , 0.        , 0.        , 0.        , 0.        ,\n",
       "       1.        , 1.        , 1.        , 1.        , 1.        ,\n",
       "       1.        , 1.        , 1.        , 1.        , 1.        ,\n",
       "       1.        , 1.        , 1.        , 1.        , 1.        ,\n",
       "       1.        , 1.        , 1.        , 0.66666667, 1.        ,\n",
       "       0.33333333, 1.        , 0.33333333, 1.        , 1.        ,\n",
       "       1.        , 1.        , 0.66666667, 1.        , 1.        ,\n",
       "       1.        , 1.        , 1.        , 0.33333333, 1.        ,\n",
       "       1.        , 1.        , 0.66666667, 1.        , 1.        ,\n",
       "       1.        , 1.        , 1.        , 1.        , 1.        ,\n",
       "       1.        , 1.        , 1.        , 1.        , 1.        ,\n",
       "       0.        , 0.        , 0.        , 0.        , 0.        ,\n",
       "       0.        , 1.        , 0.        , 0.        , 0.        ,\n",
       "       0.        , 0.        , 0.        , 0.        , 0.        ,\n",
       "       0.        , 0.        , 0.        , 0.        , 0.66666667,\n",
       "       0.        , 0.        , 0.        , 0.        , 0.        ,\n",
       "       0.        , 0.        , 0.        , 0.        , 0.33333333,\n",
       "       0.        , 0.        , 0.        , 0.66666667, 0.66666667,\n",
       "       0.        , 0.        , 0.        , 0.33333333, 0.        ,\n",
       "       0.        , 0.        , 0.        , 0.        , 0.        ,\n",
       "       0.        , 0.33333333, 0.        , 0.        , 0.33333333])"
      ]
     },
     "execution_count": 33,
     "metadata": {},
     "output_type": "execute_result"
    }
   ],
   "source": [
    "probability =knn.predict_proba(x)[:,1] # to predict the probability of each class label\n",
    "probability"
   ]
  },
  {
   "cell_type": "code",
   "execution_count": 34,
   "metadata": {
    "execution": {
     "iopub.execute_input": "2021-11-08T08:37:34.819818Z",
     "iopub.status.busy": "2021-11-08T08:37:34.819298Z",
     "iopub.status.idle": "2021-11-08T08:37:34.828268Z",
     "shell.execute_reply": "2021-11-08T08:37:34.828653Z",
     "shell.execute_reply.started": "2021-11-08T08:35:10.977719Z"
    },
    "papermill": {
     "duration": 0.056215,
     "end_time": "2021-11-08T08:37:34.828810",
     "exception": false,
     "start_time": "2021-11-08T08:37:34.772595",
     "status": "completed"
    },
    "tags": []
   },
   "outputs": [],
   "source": [
    "pred=knn.predict(x)"
   ]
  },
  {
   "cell_type": "code",
   "execution_count": 35,
   "metadata": {
    "execution": {
     "iopub.execute_input": "2021-11-08T08:37:34.921608Z",
     "iopub.status.busy": "2021-11-08T08:37:34.921032Z",
     "iopub.status.idle": "2021-11-08T08:37:34.931364Z",
     "shell.execute_reply": "2021-11-08T08:37:34.930928Z",
     "shell.execute_reply.started": "2021-11-08T08:35:10.995266Z"
    },
    "papermill": {
     "duration": 0.058741,
     "end_time": "2021-11-08T08:37:34.931494",
     "exception": false,
     "start_time": "2021-11-08T08:37:34.872753",
     "status": "completed"
    },
    "tags": []
   },
   "outputs": [
    {
     "data": {
      "text/html": [
       "<div>\n",
       "<style scoped>\n",
       "    .dataframe tbody tr th:only-of-type {\n",
       "        vertical-align: middle;\n",
       "    }\n",
       "\n",
       "    .dataframe tbody tr th {\n",
       "        vertical-align: top;\n",
       "    }\n",
       "\n",
       "    .dataframe thead th {\n",
       "        text-align: right;\n",
       "    }\n",
       "</style>\n",
       "<table border=\"1\" class=\"dataframe\">\n",
       "  <thead>\n",
       "    <tr style=\"text-align: right;\">\n",
       "      <th></th>\n",
       "      <th>Id</th>\n",
       "      <th>Response</th>\n",
       "    </tr>\n",
       "  </thead>\n",
       "  <tbody>\n",
       "    <tr>\n",
       "      <th>0</th>\n",
       "      <td>1</td>\n",
       "      <td>Iris-setosa</td>\n",
       "    </tr>\n",
       "    <tr>\n",
       "      <th>1</th>\n",
       "      <td>2</td>\n",
       "      <td>Iris-setosa</td>\n",
       "    </tr>\n",
       "    <tr>\n",
       "      <th>2</th>\n",
       "      <td>3</td>\n",
       "      <td>Iris-setosa</td>\n",
       "    </tr>\n",
       "    <tr>\n",
       "      <th>3</th>\n",
       "      <td>4</td>\n",
       "      <td>Iris-setosa</td>\n",
       "    </tr>\n",
       "    <tr>\n",
       "      <th>4</th>\n",
       "      <td>5</td>\n",
       "      <td>Iris-setosa</td>\n",
       "    </tr>\n",
       "    <tr>\n",
       "      <th>...</th>\n",
       "      <td>...</td>\n",
       "      <td>...</td>\n",
       "    </tr>\n",
       "    <tr>\n",
       "      <th>145</th>\n",
       "      <td>146</td>\n",
       "      <td>Iris-virginica</td>\n",
       "    </tr>\n",
       "    <tr>\n",
       "      <th>146</th>\n",
       "      <td>147</td>\n",
       "      <td>Iris-virginica</td>\n",
       "    </tr>\n",
       "    <tr>\n",
       "      <th>147</th>\n",
       "      <td>148</td>\n",
       "      <td>Iris-virginica</td>\n",
       "    </tr>\n",
       "    <tr>\n",
       "      <th>148</th>\n",
       "      <td>149</td>\n",
       "      <td>Iris-virginica</td>\n",
       "    </tr>\n",
       "    <tr>\n",
       "      <th>149</th>\n",
       "      <td>150</td>\n",
       "      <td>Iris-virginica</td>\n",
       "    </tr>\n",
       "  </tbody>\n",
       "</table>\n",
       "<p>150 rows × 2 columns</p>\n",
       "</div>"
      ],
      "text/plain": [
       "      Id        Response\n",
       "0      1     Iris-setosa\n",
       "1      2     Iris-setosa\n",
       "2      3     Iris-setosa\n",
       "3      4     Iris-setosa\n",
       "4      5     Iris-setosa\n",
       "..   ...             ...\n",
       "145  146  Iris-virginica\n",
       "146  147  Iris-virginica\n",
       "147  148  Iris-virginica\n",
       "148  149  Iris-virginica\n",
       "149  150  Iris-virginica\n",
       "\n",
       "[150 rows x 2 columns]"
      ]
     },
     "execution_count": 35,
     "metadata": {},
     "output_type": "execute_result"
    }
   ],
   "source": [
    "final_result=pd.DataFrame({'Id': df.Id, 'Response': pred})\n",
    "final_result"
   ]
  },
  {
   "cell_type": "code",
   "execution_count": 36,
   "metadata": {
    "execution": {
     "iopub.execute_input": "2021-11-08T08:37:35.026169Z",
     "iopub.status.busy": "2021-11-08T08:37:35.025556Z",
     "iopub.status.idle": "2021-11-08T08:37:35.031646Z",
     "shell.execute_reply": "2021-11-08T08:37:35.032048Z",
     "shell.execute_reply.started": "2021-11-08T08:35:11.014603Z"
    },
    "papermill": {
     "duration": 0.056785,
     "end_time": "2021-11-08T08:37:35.032224",
     "exception": false,
     "start_time": "2021-11-08T08:37:34.975439",
     "status": "completed"
    },
    "tags": []
   },
   "outputs": [],
   "source": [
    "final_result.to_csv(\"submission.csv\")"
   ]
  }
 ],
 "metadata": {
  "kernelspec": {
   "display_name": "Python 3",
   "language": "python",
   "name": "python3"
  },
  "language_info": {
   "codemirror_mode": {
    "name": "ipython",
    "version": 3
   },
   "file_extension": ".py",
   "mimetype": "text/x-python",
   "name": "python",
   "nbconvert_exporter": "python",
   "pygments_lexer": "ipython3",
   "version": "3.7.4"
  },
  "papermill": {
   "default_parameters": {},
   "duration": 16.711436,
   "end_time": "2021-11-08T08:37:35.786347",
   "environment_variables": {},
   "exception": null,
   "input_path": "__notebook__.ipynb",
   "output_path": "__notebook__.ipynb",
   "parameters": {},
   "start_time": "2021-11-08T08:37:19.074911",
   "version": "2.3.3"
  }
 },
 "nbformat": 4,
 "nbformat_minor": 5
}
