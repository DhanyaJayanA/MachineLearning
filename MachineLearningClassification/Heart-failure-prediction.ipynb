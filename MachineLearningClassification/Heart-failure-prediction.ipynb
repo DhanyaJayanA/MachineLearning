{
 "cells": [
  {
   "cell_type": "markdown",
   "metadata": {
    "execution": {
     "iopub.execute_input": "2021-11-08T12:10:41.556738Z",
     "iopub.status.busy": "2021-11-08T12:10:41.555821Z",
     "iopub.status.idle": "2021-11-08T12:10:41.600403Z",
     "shell.execute_reply": "2021-11-08T12:10:41.599794Z",
     "shell.execute_reply.started": "2021-11-08T12:10:41.55667Z"
    },
    "papermill": {
     "duration": 0.02651,
     "end_time": "2021-11-11T09:24:47.469858",
     "exception": false,
     "start_time": "2021-11-11T09:24:47.443348",
     "status": "completed"
    },
    "tags": []
   },
   "source": [
    "### Heart Failure Prediction"
   ]
  },
  {
   "cell_type": "code",
   "execution_count": 1,
   "metadata": {
    "execution": {
     "iopub.execute_input": "2021-11-11T09:24:47.523489Z",
     "iopub.status.busy": "2021-11-11T09:24:47.521653Z",
     "iopub.status.idle": "2021-11-11T09:24:47.575053Z",
     "shell.execute_reply": "2021-11-11T09:24:47.575668Z",
     "shell.execute_reply.started": "2021-11-11T09:22:02.224911Z"
    },
    "papermill": {
     "duration": 0.081712,
     "end_time": "2021-11-11T09:24:47.576026",
     "exception": false,
     "start_time": "2021-11-11T09:24:47.494314",
     "status": "completed"
    },
    "tags": []
   },
   "outputs": [
    {
     "data": {
      "text/html": [
       "<div>\n",
       "<style scoped>\n",
       "    .dataframe tbody tr th:only-of-type {\n",
       "        vertical-align: middle;\n",
       "    }\n",
       "\n",
       "    .dataframe tbody tr th {\n",
       "        vertical-align: top;\n",
       "    }\n",
       "\n",
       "    .dataframe thead th {\n",
       "        text-align: right;\n",
       "    }\n",
       "</style>\n",
       "<table border=\"1\" class=\"dataframe\">\n",
       "  <thead>\n",
       "    <tr style=\"text-align: right;\">\n",
       "      <th></th>\n",
       "      <th>Age</th>\n",
       "      <th>Sex</th>\n",
       "      <th>ChestPainType</th>\n",
       "      <th>RestingBP</th>\n",
       "      <th>Cholesterol</th>\n",
       "      <th>FastingBS</th>\n",
       "      <th>RestingECG</th>\n",
       "      <th>MaxHR</th>\n",
       "      <th>ExerciseAngina</th>\n",
       "      <th>Oldpeak</th>\n",
       "      <th>ST_Slope</th>\n",
       "      <th>HeartDisease</th>\n",
       "    </tr>\n",
       "  </thead>\n",
       "  <tbody>\n",
       "    <tr>\n",
       "      <th>0</th>\n",
       "      <td>40</td>\n",
       "      <td>M</td>\n",
       "      <td>ATA</td>\n",
       "      <td>140</td>\n",
       "      <td>289</td>\n",
       "      <td>0</td>\n",
       "      <td>Normal</td>\n",
       "      <td>172</td>\n",
       "      <td>N</td>\n",
       "      <td>0.0</td>\n",
       "      <td>Up</td>\n",
       "      <td>0</td>\n",
       "    </tr>\n",
       "    <tr>\n",
       "      <th>1</th>\n",
       "      <td>49</td>\n",
       "      <td>F</td>\n",
       "      <td>NAP</td>\n",
       "      <td>160</td>\n",
       "      <td>180</td>\n",
       "      <td>0</td>\n",
       "      <td>Normal</td>\n",
       "      <td>156</td>\n",
       "      <td>N</td>\n",
       "      <td>1.0</td>\n",
       "      <td>Flat</td>\n",
       "      <td>1</td>\n",
       "    </tr>\n",
       "    <tr>\n",
       "      <th>2</th>\n",
       "      <td>37</td>\n",
       "      <td>M</td>\n",
       "      <td>ATA</td>\n",
       "      <td>130</td>\n",
       "      <td>283</td>\n",
       "      <td>0</td>\n",
       "      <td>ST</td>\n",
       "      <td>98</td>\n",
       "      <td>N</td>\n",
       "      <td>0.0</td>\n",
       "      <td>Up</td>\n",
       "      <td>0</td>\n",
       "    </tr>\n",
       "    <tr>\n",
       "      <th>3</th>\n",
       "      <td>48</td>\n",
       "      <td>F</td>\n",
       "      <td>ASY</td>\n",
       "      <td>138</td>\n",
       "      <td>214</td>\n",
       "      <td>0</td>\n",
       "      <td>Normal</td>\n",
       "      <td>108</td>\n",
       "      <td>Y</td>\n",
       "      <td>1.5</td>\n",
       "      <td>Flat</td>\n",
       "      <td>1</td>\n",
       "    </tr>\n",
       "    <tr>\n",
       "      <th>4</th>\n",
       "      <td>54</td>\n",
       "      <td>M</td>\n",
       "      <td>NAP</td>\n",
       "      <td>150</td>\n",
       "      <td>195</td>\n",
       "      <td>0</td>\n",
       "      <td>Normal</td>\n",
       "      <td>122</td>\n",
       "      <td>N</td>\n",
       "      <td>0.0</td>\n",
       "      <td>Up</td>\n",
       "      <td>0</td>\n",
       "    </tr>\n",
       "  </tbody>\n",
       "</table>\n",
       "</div>"
      ],
      "text/plain": [
       "   Age Sex ChestPainType  RestingBP  Cholesterol  FastingBS RestingECG  MaxHR  \\\n",
       "0   40   M           ATA        140          289          0     Normal    172   \n",
       "1   49   F           NAP        160          180          0     Normal    156   \n",
       "2   37   M           ATA        130          283          0         ST     98   \n",
       "3   48   F           ASY        138          214          0     Normal    108   \n",
       "4   54   M           NAP        150          195          0     Normal    122   \n",
       "\n",
       "  ExerciseAngina  Oldpeak ST_Slope  HeartDisease  \n",
       "0              N      0.0       Up             0  \n",
       "1              N      1.0     Flat             1  \n",
       "2              N      0.0       Up             0  \n",
       "3              Y      1.5     Flat             1  \n",
       "4              N      0.0       Up             0  "
      ]
     },
     "execution_count": 1,
     "metadata": {},
     "output_type": "execute_result"
    }
   ],
   "source": [
    "import pandas as pd\n",
    "import numpy as np\n",
    "df=pd.read_csv(\"heart-failure-prediction/heart.csv\")\n",
    "df.head(5)"
   ]
  },
  {
   "cell_type": "code",
   "execution_count": 2,
   "metadata": {
    "execution": {
     "iopub.execute_input": "2021-11-11T09:24:47.650677Z",
     "iopub.status.busy": "2021-11-11T09:24:47.626215Z",
     "iopub.status.idle": "2021-11-11T09:24:47.657376Z",
     "shell.execute_reply": "2021-11-11T09:24:47.656178Z",
     "shell.execute_reply.started": "2021-11-11T09:22:02.254562Z"
    },
    "papermill": {
     "duration": 0.057631,
     "end_time": "2021-11-11T09:24:47.657592",
     "exception": false,
     "start_time": "2021-11-11T09:24:47.599961",
     "status": "completed"
    },
    "tags": []
   },
   "outputs": [
    {
     "name": "stdout",
     "output_type": "stream",
     "text": [
      "<class 'pandas.core.frame.DataFrame'>\n",
      "RangeIndex: 918 entries, 0 to 917\n",
      "Data columns (total 12 columns):\n",
      " #   Column          Non-Null Count  Dtype  \n",
      "---  ------          --------------  -----  \n",
      " 0   Age             918 non-null    int64  \n",
      " 1   Sex             918 non-null    object \n",
      " 2   ChestPainType   918 non-null    object \n",
      " 3   RestingBP       918 non-null    int64  \n",
      " 4   Cholesterol     918 non-null    int64  \n",
      " 5   FastingBS       918 non-null    int64  \n",
      " 6   RestingECG      918 non-null    object \n",
      " 7   MaxHR           918 non-null    int64  \n",
      " 8   ExerciseAngina  918 non-null    object \n",
      " 9   Oldpeak         918 non-null    float64\n",
      " 10  ST_Slope        918 non-null    object \n",
      " 11  HeartDisease    918 non-null    int64  \n",
      "dtypes: float64(1), int64(6), object(5)\n",
      "memory usage: 86.2+ KB\n"
     ]
    }
   ],
   "source": [
    "df.info()"
   ]
  },
  {
   "cell_type": "code",
   "execution_count": 3,
   "metadata": {
    "execution": {
     "iopub.execute_input": "2021-11-11T09:24:47.715956Z",
     "iopub.status.busy": "2021-11-11T09:24:47.714963Z",
     "iopub.status.idle": "2021-11-11T09:24:47.719469Z",
     "shell.execute_reply": "2021-11-11T09:24:47.718897Z",
     "shell.execute_reply.started": "2021-11-11T09:22:02.284473Z"
    },
    "papermill": {
     "duration": 0.037917,
     "end_time": "2021-11-11T09:24:47.719621",
     "exception": false,
     "start_time": "2021-11-11T09:24:47.681704",
     "status": "completed"
    },
    "tags": []
   },
   "outputs": [
    {
     "data": {
      "text/plain": [
       "Age               0\n",
       "Sex               0\n",
       "ChestPainType     0\n",
       "RestingBP         0\n",
       "Cholesterol       0\n",
       "FastingBS         0\n",
       "RestingECG        0\n",
       "MaxHR             0\n",
       "ExerciseAngina    0\n",
       "Oldpeak           0\n",
       "ST_Slope          0\n",
       "HeartDisease      0\n",
       "dtype: int64"
      ]
     },
     "execution_count": 3,
     "metadata": {},
     "output_type": "execute_result"
    }
   ],
   "source": [
    "df.isnull().sum()"
   ]
  },
  {
   "cell_type": "code",
   "execution_count": 4,
   "metadata": {
    "execution": {
     "iopub.execute_input": "2021-11-11T09:24:47.773397Z",
     "iopub.status.busy": "2021-11-11T09:24:47.772419Z",
     "iopub.status.idle": "2021-11-11T09:24:47.782242Z",
     "shell.execute_reply": "2021-11-11T09:24:47.782840Z",
     "shell.execute_reply.started": "2021-11-11T09:22:02.324598Z"
    },
    "papermill": {
     "duration": 0.039922,
     "end_time": "2021-11-11T09:24:47.783010",
     "exception": false,
     "start_time": "2021-11-11T09:24:47.743088",
     "status": "completed"
    },
    "tags": []
   },
   "outputs": [
    {
     "data": {
      "text/plain": [
       "0"
      ]
     },
     "execution_count": 4,
     "metadata": {},
     "output_type": "execute_result"
    }
   ],
   "source": [
    "df.duplicated().sum()"
   ]
  },
  {
   "cell_type": "code",
   "execution_count": 5,
   "metadata": {
    "execution": {
     "iopub.execute_input": "2021-11-11T09:24:47.834855Z",
     "iopub.status.busy": "2021-11-11T09:24:47.834193Z",
     "iopub.status.idle": "2021-11-11T09:24:49.227157Z",
     "shell.execute_reply": "2021-11-11T09:24:49.227784Z",
     "shell.execute_reply.started": "2021-11-11T09:22:02.341044Z"
    },
    "papermill": {
     "duration": 1.420989,
     "end_time": "2021-11-11T09:24:49.227991",
     "exception": false,
     "start_time": "2021-11-11T09:24:47.807002",
     "status": "completed"
    },
    "tags": []
   },
   "outputs": [
    {
     "data": {
      "text/plain": [
       "1    508\n",
       "0    410\n",
       "Name: HeartDisease, dtype: int64"
      ]
     },
     "execution_count": 5,
     "metadata": {},
     "output_type": "execute_result"
    },
    {
     "data": {
      "image/png": "[encoded data removed]",
      "text/plain": [
       "<Figure size 432x288 with 1 Axes>"
      ]
     },
     "metadata": {
      "needs_background": "light"
     },
     "output_type": "display_data"
    }
   ],
   "source": [
    "import seaborn as sns\n",
    "sns.countplot(x=\"HeartDisease\",data=df,hue='HeartDisease') \n",
    "df['HeartDisease'].value_counts()"
   ]
  },
  {
   "cell_type": "code",
   "execution_count": 6,
   "metadata": {
    "execution": {
     "iopub.execute_input": "2021-11-11T09:24:49.282026Z",
     "iopub.status.busy": "2021-11-11T09:24:49.281328Z",
     "iopub.status.idle": "2021-11-11T09:24:49.289797Z",
     "shell.execute_reply": "2021-11-11T09:24:49.290288Z",
     "shell.execute_reply.started": "2021-11-11T09:22:02.590507Z"
    },
    "papermill": {
     "duration": 0.037387,
     "end_time": "2021-11-11T09:24:49.290499",
     "exception": false,
     "start_time": "2021-11-11T09:24:49.253112",
     "status": "completed"
    },
    "tags": []
   },
   "outputs": [
    {
     "data": {
      "text/plain": [
       "Sex               2\n",
       "ChestPainType     4\n",
       "RestingECG        3\n",
       "ExerciseAngina    2\n",
       "ST_Slope          3\n",
       "dtype: int64"
      ]
     },
     "execution_count": 6,
     "metadata": {},
     "output_type": "execute_result"
    }
   ],
   "source": [
    "df.select_dtypes(np.object).nunique()"
   ]
  },
  {
   "cell_type": "code",
   "execution_count": 7,
   "metadata": {
    "execution": {
     "iopub.execute_input": "2021-11-11T09:24:49.345167Z",
     "iopub.status.busy": "2021-11-11T09:24:49.344500Z",
     "iopub.status.idle": "2021-11-11T09:24:49.491395Z",
     "shell.execute_reply": "2021-11-11T09:24:49.490759Z",
     "shell.execute_reply.started": "2021-11-11T09:22:02.605416Z"
    },
    "papermill": {
     "duration": 0.175521,
     "end_time": "2021-11-11T09:24:49.491562",
     "exception": false,
     "start_time": "2021-11-11T09:24:49.316041",
     "status": "completed"
    },
    "tags": []
   },
   "outputs": [],
   "source": [
    "from sklearn.preprocessing import LabelEncoder\n",
    "categ = ['RestingECG','ExerciseAngina','ChestPainType','ST_Slope','Sex']\n",
    "\n",
    "# Encode Categorical Columns\n",
    "le = LabelEncoder()\n",
    "df[categ] = df[categ].apply(le.fit_transform)"
   ]
  },
  {
   "cell_type": "code",
   "execution_count": 8,
   "metadata": {
    "execution": {
     "iopub.execute_input": "2021-11-11T09:24:49.551037Z",
     "iopub.status.busy": "2021-11-11T09:24:49.550169Z",
     "iopub.status.idle": "2021-11-11T09:24:49.553558Z",
     "shell.execute_reply": "2021-11-11T09:24:49.554056Z",
     "shell.execute_reply.started": "2021-11-11T09:22:02.619488Z"
    },
    "papermill": {
     "duration": 0.037023,
     "end_time": "2021-11-11T09:24:49.554251",
     "exception": false,
     "start_time": "2021-11-11T09:24:49.517228",
     "status": "completed"
    },
    "tags": []
   },
   "outputs": [
    {
     "data": {
      "text/plain": [
       "Age                 int64\n",
       "Sex                 int64\n",
       "ChestPainType       int64\n",
       "RestingBP           int64\n",
       "Cholesterol         int64\n",
       "FastingBS           int64\n",
       "RestingECG          int64\n",
       "MaxHR               int64\n",
       "ExerciseAngina      int64\n",
       "Oldpeak           float64\n",
       "ST_Slope            int64\n",
       "HeartDisease        int64\n",
       "dtype: object"
      ]
     },
     "execution_count": 8,
     "metadata": {},
     "output_type": "execute_result"
    }
   ],
   "source": [
    "df.dtypes"
   ]
  },
  {
   "cell_type": "code",
   "execution_count": 9,
   "metadata": {
    "execution": {
     "iopub.execute_input": "2021-11-11T09:24:49.609658Z",
     "iopub.status.busy": "2021-11-11T09:24:49.608988Z",
     "iopub.status.idle": "2021-11-11T09:24:50.907373Z",
     "shell.execute_reply": "2021-11-11T09:24:50.907985Z",
     "shell.execute_reply.started": "2021-11-11T09:22:02.632223Z"
    },
    "papermill": {
     "duration": 1.328385,
     "end_time": "2021-11-11T09:24:50.908203",
     "exception": false,
     "start_time": "2021-11-11T09:24:49.579818",
     "status": "completed"
    },
    "tags": []
   },
   "outputs": [
    {
     "data": {
      "text/plain": [
       "<AxesSubplot:>"
      ]
     },
     "execution_count": 9,
     "metadata": {},
     "output_type": "execute_result"
    },
    {
     "data": {
      "image/png": "[encoded data removed]",
      "text/plain": [
       "<Figure size 864x864 with 2 Axes>"
      ]
     },
     "metadata": {
      "needs_background": "light"
     },
     "output_type": "display_data"
    }
   ],
   "source": [
    "import matplotlib.pyplot as plt\n",
    "corr=df.corr()\n",
    "plt.figure(figsize = (12, 12))\n",
    "sns.heatmap(corr, annot = True, cmap = \"Blues\")"
   ]
  },
  {
   "cell_type": "code",
   "execution_count": 10,
   "metadata": {
    "execution": {
     "iopub.execute_input": "2021-11-11T09:24:50.977088Z",
     "iopub.status.busy": "2021-11-11T09:24:50.976370Z",
     "iopub.status.idle": "2021-11-11T09:24:50.984821Z",
     "shell.execute_reply": "2021-11-11T09:24:50.984222Z",
     "shell.execute_reply.started": "2021-11-11T09:22:03.790701Z"
    },
    "papermill": {
     "duration": 0.045007,
     "end_time": "2021-11-11T09:24:50.984979",
     "exception": false,
     "start_time": "2021-11-11T09:24:50.939972",
     "status": "completed"
    },
    "tags": []
   },
   "outputs": [
    {
     "data": {
      "text/plain": [
       "Age                  88.974254\n",
       "Sex                   0.166220\n",
       "ChestPainType         0.914929\n",
       "RestingBP           342.773903\n",
       "Cholesterol       11964.891079\n",
       "FastingBS             0.178968\n",
       "RestingECG            0.399009\n",
       "MaxHR               648.228614\n",
       "ExerciseAngina        0.241073\n",
       "Oldpeak               1.137572\n",
       "ST_Slope              0.368517\n",
       "HeartDisease          0.247420\n",
       "dtype: float64"
      ]
     },
     "execution_count": 10,
     "metadata": {},
     "output_type": "execute_result"
    }
   ],
   "source": [
    "df.var()"
   ]
  },
  {
   "cell_type": "code",
   "execution_count": 11,
   "metadata": {
    "execution": {
     "iopub.execute_input": "2021-11-11T09:24:51.052228Z",
     "iopub.status.busy": "2021-11-11T09:24:51.051459Z",
     "iopub.status.idle": "2021-11-11T09:24:51.073882Z",
     "shell.execute_reply": "2021-11-11T09:24:51.074459Z",
     "shell.execute_reply.started": "2021-11-11T09:22:03.800350Z"
    },
    "papermill": {
     "duration": 0.05782,
     "end_time": "2021-11-11T09:24:51.074664",
     "exception": false,
     "start_time": "2021-11-11T09:24:51.016844",
     "status": "completed"
    },
    "tags": []
   },
   "outputs": [
    {
     "data": {
      "text/html": [
       "<div>\n",
       "<style scoped>\n",
       "    .dataframe tbody tr th:only-of-type {\n",
       "        vertical-align: middle;\n",
       "    }\n",
       "\n",
       "    .dataframe tbody tr th {\n",
       "        vertical-align: top;\n",
       "    }\n",
       "\n",
       "    .dataframe thead th {\n",
       "        text-align: right;\n",
       "    }\n",
       "</style>\n",
       "<table border=\"1\" class=\"dataframe\">\n",
       "  <thead>\n",
       "    <tr style=\"text-align: right;\">\n",
       "      <th></th>\n",
       "      <th>Age</th>\n",
       "      <th>Sex</th>\n",
       "      <th>ChestPainType</th>\n",
       "      <th>RestingBP</th>\n",
       "      <th>Cholesterol</th>\n",
       "      <th>FastingBS</th>\n",
       "      <th>RestingECG</th>\n",
       "      <th>MaxHR</th>\n",
       "      <th>ExerciseAngina</th>\n",
       "      <th>Oldpeak</th>\n",
       "      <th>ST_Slope</th>\n",
       "      <th>HeartDisease</th>\n",
       "    </tr>\n",
       "  </thead>\n",
       "  <tbody>\n",
       "    <tr>\n",
       "      <th>Age</th>\n",
       "      <td>88.974254</td>\n",
       "      <td>0.214397</td>\n",
       "      <td>-0.696086</td>\n",
       "      <td>44.427519</td>\n",
       "      <td>-98.309701</td>\n",
       "      <td>0.790260</td>\n",
       "      <td>-0.044592</td>\n",
       "      <td>-91.750920</td>\n",
       "      <td>0.999410</td>\n",
       "      <td>2.601774</td>\n",
       "      <td>-1.536114</td>\n",
       "      <td>1.323300</td>\n",
       "    </tr>\n",
       "    <tr>\n",
       "      <th>Sex</th>\n",
       "      <td>0.214397</td>\n",
       "      <td>0.166220</td>\n",
       "      <td>-0.049355</td>\n",
       "      <td>0.038743</td>\n",
       "      <td>-8.923320</td>\n",
       "      <td>0.020710</td>\n",
       "      <td>0.018427</td>\n",
       "      <td>-1.963786</td>\n",
       "      <td>0.038167</td>\n",
       "      <td>0.045977</td>\n",
       "      <td>-0.037296</td>\n",
       "      <td>0.061943</td>\n",
       "    </tr>\n",
       "    <tr>\n",
       "      <th>ChestPainType</th>\n",
       "      <td>-0.696086</td>\n",
       "      <td>-0.049355</td>\n",
       "      <td>0.914929</td>\n",
       "      <td>-0.365650</td>\n",
       "      <td>7.102195</td>\n",
       "      <td>-0.029601</td>\n",
       "      <td>-0.043827</td>\n",
       "      <td>7.041094</td>\n",
       "      <td>-0.166595</td>\n",
       "      <td>-0.180960</td>\n",
       "      <td>0.123983</td>\n",
       "      <td>-0.184047</td>\n",
       "    </tr>\n",
       "    <tr>\n",
       "      <th>RestingBP</th>\n",
       "      <td>44.427519</td>\n",
       "      <td>0.038743</td>\n",
       "      <td>-0.365650</td>\n",
       "      <td>342.773903</td>\n",
       "      <td>204.323837</td>\n",
       "      <td>0.549778</td>\n",
       "      <td>0.264957</td>\n",
       "      <td>-52.857808</td>\n",
       "      <td>1.409916</td>\n",
       "      <td>3.254307</td>\n",
       "      <td>-0.844758</td>\n",
       "      <td>0.990808</td>\n",
       "    </tr>\n",
       "    <tr>\n",
       "      <th>Cholesterol</th>\n",
       "      <td>-98.309701</td>\n",
       "      <td>-8.923320</td>\n",
       "      <td>7.102195</td>\n",
       "      <td>204.323837</td>\n",
       "      <td>11964.891079</td>\n",
       "      <td>-12.076452</td>\n",
       "      <td>-13.580157</td>\n",
       "      <td>656.671673</td>\n",
       "      <td>-1.834938</td>\n",
       "      <td>5.850572</td>\n",
       "      <td>7.401903</td>\n",
       "      <td>-12.663226</td>\n",
       "    </tr>\n",
       "    <tr>\n",
       "      <th>FastingBS</th>\n",
       "      <td>0.790260</td>\n",
       "      <td>0.020710</td>\n",
       "      <td>-0.029601</td>\n",
       "      <td>0.549778</td>\n",
       "      <td>-12.076452</td>\n",
       "      <td>0.178968</td>\n",
       "      <td>0.023262</td>\n",
       "      <td>-1.415709</td>\n",
       "      <td>0.012556</td>\n",
       "      <td>0.023778</td>\n",
       "      <td>-0.045141</td>\n",
       "      <td>0.056246</td>\n",
       "    </tr>\n",
       "    <tr>\n",
       "      <th>RestingECG</th>\n",
       "      <td>-0.044592</td>\n",
       "      <td>0.018427</td>\n",
       "      <td>-0.043827</td>\n",
       "      <td>0.264957</td>\n",
       "      <td>-13.580157</td>\n",
       "      <td>0.023262</td>\n",
       "      <td>0.399009</td>\n",
       "      <td>-2.883213</td>\n",
       "      <td>0.024036</td>\n",
       "      <td>-0.013769</td>\n",
       "      <td>-0.002599</td>\n",
       "      <td>0.018030</td>\n",
       "    </tr>\n",
       "    <tr>\n",
       "      <th>MaxHR</th>\n",
       "      <td>-91.750920</td>\n",
       "      <td>-1.963786</td>\n",
       "      <td>7.041094</td>\n",
       "      <td>-52.857808</td>\n",
       "      <td>656.671673</td>\n",
       "      <td>-1.415709</td>\n",
       "      <td>-2.883213</td>\n",
       "      <td>648.228614</td>\n",
       "      <td>-4.630617</td>\n",
       "      <td>-4.363589</td>\n",
       "      <td>5.307841</td>\n",
       "      <td>-5.071057</td>\n",
       "    </tr>\n",
       "    <tr>\n",
       "      <th>ExerciseAngina</th>\n",
       "      <td>0.999410</td>\n",
       "      <td>0.038167</td>\n",
       "      <td>-0.166595</td>\n",
       "      <td>1.409916</td>\n",
       "      <td>-1.834938</td>\n",
       "      <td>0.012556</td>\n",
       "      <td>0.024036</td>\n",
       "      <td>-4.630617</td>\n",
       "      <td>0.241073</td>\n",
       "      <td>0.214055</td>\n",
       "      <td>-0.127780</td>\n",
       "      <td>0.120717</td>\n",
       "    </tr>\n",
       "    <tr>\n",
       "      <th>Oldpeak</th>\n",
       "      <td>2.601774</td>\n",
       "      <td>0.045977</td>\n",
       "      <td>-0.180960</td>\n",
       "      <td>3.254307</td>\n",
       "      <td>5.850572</td>\n",
       "      <td>0.023778</td>\n",
       "      <td>-0.013769</td>\n",
       "      <td>-4.363589</td>\n",
       "      <td>0.214055</td>\n",
       "      <td>1.137572</td>\n",
       "      <td>-0.324978</td>\n",
       "      <td>0.214307</td>\n",
       "    </tr>\n",
       "    <tr>\n",
       "      <th>ST_Slope</th>\n",
       "      <td>-1.536114</td>\n",
       "      <td>-0.037296</td>\n",
       "      <td>0.123983</td>\n",
       "      <td>-0.844758</td>\n",
       "      <td>7.401903</td>\n",
       "      <td>-0.045141</td>\n",
       "      <td>-0.002599</td>\n",
       "      <td>5.307841</td>\n",
       "      <td>-0.127780</td>\n",
       "      <td>-0.324978</td>\n",
       "      <td>0.368517</td>\n",
       "      <td>-0.168725</td>\n",
       "    </tr>\n",
       "    <tr>\n",
       "      <th>HeartDisease</th>\n",
       "      <td>1.323300</td>\n",
       "      <td>0.061943</td>\n",
       "      <td>-0.184047</td>\n",
       "      <td>0.990808</td>\n",
       "      <td>-12.663226</td>\n",
       "      <td>0.056246</td>\n",
       "      <td>0.018030</td>\n",
       "      <td>-5.071057</td>\n",
       "      <td>0.120717</td>\n",
       "      <td>0.214307</td>\n",
       "      <td>-0.168725</td>\n",
       "      <td>0.247420</td>\n",
       "    </tr>\n",
       "  </tbody>\n",
       "</table>\n",
       "</div>"
      ],
      "text/plain": [
       "                      Age       Sex  ChestPainType   RestingBP   Cholesterol  \\\n",
       "Age             88.974254  0.214397      -0.696086   44.427519    -98.309701   \n",
       "Sex              0.214397  0.166220      -0.049355    0.038743     -8.923320   \n",
       "ChestPainType   -0.696086 -0.049355       0.914929   -0.365650      7.102195   \n",
       "RestingBP       44.427519  0.038743      -0.365650  342.773903    204.323837   \n",
       "Cholesterol    -98.309701 -8.923320       7.102195  204.323837  11964.891079   \n",
       "FastingBS        0.790260  0.020710      -0.029601    0.549778    -12.076452   \n",
       "RestingECG      -0.044592  0.018427      -0.043827    0.264957    -13.580157   \n",
       "MaxHR          -91.750920 -1.963786       7.041094  -52.857808    656.671673   \n",
       "ExerciseAngina   0.999410  0.038167      -0.166595    1.409916     -1.834938   \n",
       "Oldpeak          2.601774  0.045977      -0.180960    3.254307      5.850572   \n",
       "ST_Slope        -1.536114 -0.037296       0.123983   -0.844758      7.401903   \n",
       "HeartDisease     1.323300  0.061943      -0.184047    0.990808    -12.663226   \n",
       "\n",
       "                FastingBS  RestingECG       MaxHR  ExerciseAngina   Oldpeak  \\\n",
       "Age              0.790260   -0.044592  -91.750920        0.999410  2.601774   \n",
       "Sex              0.020710    0.018427   -1.963786        0.038167  0.045977   \n",
       "ChestPainType   -0.029601   -0.043827    7.041094       -0.166595 -0.180960   \n",
       "RestingBP        0.549778    0.264957  -52.857808        1.409916  3.254307   \n",
       "Cholesterol    -12.076452  -13.580157  656.671673       -1.834938  5.850572   \n",
       "FastingBS        0.178968    0.023262   -1.415709        0.012556  0.023778   \n",
       "RestingECG       0.023262    0.399009   -2.883213        0.024036 -0.013769   \n",
       "MaxHR           -1.415709   -2.883213  648.228614       -4.630617 -4.363589   \n",
       "ExerciseAngina   0.012556    0.024036   -4.630617        0.241073  0.214055   \n",
       "Oldpeak          0.023778   -0.013769   -4.363589        0.214055  1.137572   \n",
       "ST_Slope        -0.045141   -0.002599    5.307841       -0.127780 -0.324978   \n",
       "HeartDisease     0.056246    0.018030   -5.071057        0.120717  0.214307   \n",
       "\n",
       "                ST_Slope  HeartDisease  \n",
       "Age            -1.536114      1.323300  \n",
       "Sex            -0.037296      0.061943  \n",
       "ChestPainType   0.123983     -0.184047  \n",
       "RestingBP      -0.844758      0.990808  \n",
       "Cholesterol     7.401903    -12.663226  \n",
       "FastingBS      -0.045141      0.056246  \n",
       "RestingECG     -0.002599      0.018030  \n",
       "MaxHR           5.307841     -5.071057  \n",
       "ExerciseAngina -0.127780      0.120717  \n",
       "Oldpeak        -0.324978      0.214307  \n",
       "ST_Slope        0.368517     -0.168725  \n",
       "HeartDisease   -0.168725      0.247420  "
      ]
     },
     "execution_count": 11,
     "metadata": {},
     "output_type": "execute_result"
    }
   ],
   "source": [
    "cov_=df.cov() # covariance\n",
    "cov_"
   ]
  },
  {
   "cell_type": "markdown",
   "metadata": {
    "execution": {
     "iopub.execute_input": "2021-11-08T09:42:47.171719Z",
     "iopub.status.busy": "2021-11-08T09:42:47.171265Z",
     "iopub.status.idle": "2021-11-08T09:42:47.18973Z",
     "shell.execute_reply": "2021-11-08T09:42:47.188621Z",
     "shell.execute_reply.started": "2021-11-08T09:42:47.171677Z"
    },
    "papermill": {
     "duration": 0.032123,
     "end_time": "2021-11-11T09:24:51.138587",
     "exception": false,
     "start_time": "2021-11-11T09:24:51.106464",
     "status": "completed"
    },
    "tags": []
   },
   "source": [
    "#### Variance Inflation Factor"
   ]
  },
  {
   "cell_type": "code",
   "execution_count": 12,
   "metadata": {
    "execution": {
     "iopub.execute_input": "2021-11-11T09:24:51.207794Z",
     "iopub.status.busy": "2021-11-11T09:24:51.206974Z",
     "iopub.status.idle": "2021-11-11T09:24:51.381828Z",
     "shell.execute_reply": "2021-11-11T09:24:51.383017Z",
     "shell.execute_reply.started": "2021-11-11T09:22:03.824612Z"
    },
    "papermill": {
     "duration": 0.211564,
     "end_time": "2021-11-11T09:24:51.383379",
     "exception": false,
     "start_time": "2021-11-11T09:24:51.171815",
     "status": "completed"
    },
    "tags": []
   },
   "outputs": [
    {
     "data": {
      "text/html": [
       "<div>\n",
       "<style scoped>\n",
       "    .dataframe tbody tr th:only-of-type {\n",
       "        vertical-align: middle;\n",
       "    }\n",
       "\n",
       "    .dataframe tbody tr th {\n",
       "        vertical-align: top;\n",
       "    }\n",
       "\n",
       "    .dataframe thead th {\n",
       "        text-align: right;\n",
       "    }\n",
       "</style>\n",
       "<table border=\"1\" class=\"dataframe\">\n",
       "  <thead>\n",
       "    <tr style=\"text-align: right;\">\n",
       "      <th></th>\n",
       "      <th>features</th>\n",
       "      <th>VIF</th>\n",
       "    </tr>\n",
       "  </thead>\n",
       "  <tbody>\n",
       "    <tr>\n",
       "      <th>0</th>\n",
       "      <td>Age</td>\n",
       "      <td>31.334848</td>\n",
       "    </tr>\n",
       "    <tr>\n",
       "      <th>1</th>\n",
       "      <td>Sex</td>\n",
       "      <td>5.192227</td>\n",
       "    </tr>\n",
       "    <tr>\n",
       "      <th>2</th>\n",
       "      <td>ChestPainType</td>\n",
       "      <td>2.109002</td>\n",
       "    </tr>\n",
       "    <tr>\n",
       "      <th>3</th>\n",
       "      <td>RestingBP</td>\n",
       "      <td>47.457298</td>\n",
       "    </tr>\n",
       "    <tr>\n",
       "      <th>4</th>\n",
       "      <td>Cholesterol</td>\n",
       "      <td>5.322238</td>\n",
       "    </tr>\n",
       "    <tr>\n",
       "      <th>5</th>\n",
       "      <td>FastingBS</td>\n",
       "      <td>1.519112</td>\n",
       "    </tr>\n",
       "    <tr>\n",
       "      <th>6</th>\n",
       "      <td>RestingECG</td>\n",
       "      <td>3.535276</td>\n",
       "    </tr>\n",
       "    <tr>\n",
       "      <th>7</th>\n",
       "      <td>MaxHR</td>\n",
       "      <td>26.170738</td>\n",
       "    </tr>\n",
       "    <tr>\n",
       "      <th>8</th>\n",
       "      <td>ExerciseAngina</td>\n",
       "      <td>2.661858</td>\n",
       "    </tr>\n",
       "    <tr>\n",
       "      <th>9</th>\n",
       "      <td>Oldpeak</td>\n",
       "      <td>2.576525</td>\n",
       "    </tr>\n",
       "    <tr>\n",
       "      <th>10</th>\n",
       "      <td>ST_Slope</td>\n",
       "      <td>10.251091</td>\n",
       "    </tr>\n",
       "    <tr>\n",
       "      <th>11</th>\n",
       "      <td>HeartDisease</td>\n",
       "      <td>4.453252</td>\n",
       "    </tr>\n",
       "  </tbody>\n",
       "</table>\n",
       "</div>"
      ],
      "text/plain": [
       "          features        VIF\n",
       "0              Age  31.334848\n",
       "1              Sex   5.192227\n",
       "2    ChestPainType   2.109002\n",
       "3        RestingBP  47.457298\n",
       "4      Cholesterol   5.322238\n",
       "5        FastingBS   1.519112\n",
       "6       RestingECG   3.535276\n",
       "7            MaxHR  26.170738\n",
       "8   ExerciseAngina   2.661858\n",
       "9          Oldpeak   2.576525\n",
       "10        ST_Slope  10.251091\n",
       "11    HeartDisease   4.453252"
      ]
     },
     "execution_count": 12,
     "metadata": {},
     "output_type": "execute_result"
    }
   ],
   "source": [
    "from statsmodels.stats.outliers_influence import variance_inflation_factor\n",
    "vif = pd.DataFrame()\n",
    "vif[\"features\"] = df.columns\n",
    "vif[\"VIF\"] = [variance_inflation_factor(df.values, i) for i in range(df.shape[1])]\n",
    "vif"
   ]
  },
  {
   "cell_type": "markdown",
   "metadata": {
    "papermill": {
     "duration": 0.05262,
     "end_time": "2021-11-11T09:24:51.509261",
     "exception": false,
     "start_time": "2021-11-11T09:24:51.456641",
     "status": "completed"
    },
    "tags": []
   },
   "source": [
    "restingBP, Age, and MaxHR have VIF value greater than 10 . so we drop the biggest VIF values then calculate again the VIF"
   ]
  },
  {
   "cell_type": "code",
   "execution_count": 13,
   "metadata": {
    "execution": {
     "iopub.execute_input": "2021-11-11T09:24:51.580176Z",
     "iopub.status.busy": "2021-11-11T09:24:51.579400Z",
     "iopub.status.idle": "2021-11-11T09:24:51.583771Z",
     "shell.execute_reply": "2021-11-11T09:24:51.584337Z",
     "shell.execute_reply.started": "2021-11-11T09:22:03.885931Z"
    },
    "papermill": {
     "duration": 0.043231,
     "end_time": "2021-11-11T09:24:51.584546",
     "exception": false,
     "start_time": "2021-11-11T09:24:51.541315",
     "status": "completed"
    },
    "tags": []
   },
   "outputs": [],
   "source": [
    "df=df.drop(['RestingBP','Age','MaxHR'],axis=1)"
   ]
  },
  {
   "cell_type": "code",
   "execution_count": 14,
   "metadata": {
    "execution": {
     "iopub.execute_input": "2021-11-11T09:24:51.659911Z",
     "iopub.status.busy": "2021-11-11T09:24:51.656934Z",
     "iopub.status.idle": "2021-11-11T09:24:51.681234Z",
     "shell.execute_reply": "2021-11-11T09:24:51.680635Z",
     "shell.execute_reply.started": "2021-11-11T09:22:03.906348Z"
    },
    "papermill": {
     "duration": 0.062876,
     "end_time": "2021-11-11T09:24:51.681419",
     "exception": false,
     "start_time": "2021-11-11T09:24:51.618543",
     "status": "completed"
    },
    "tags": []
   },
   "outputs": [
    {
     "data": {
      "text/html": [
       "<div>\n",
       "<style scoped>\n",
       "    .dataframe tbody tr th:only-of-type {\n",
       "        vertical-align: middle;\n",
       "    }\n",
       "\n",
       "    .dataframe tbody tr th {\n",
       "        vertical-align: top;\n",
       "    }\n",
       "\n",
       "    .dataframe thead th {\n",
       "        text-align: right;\n",
       "    }\n",
       "</style>\n",
       "<table border=\"1\" class=\"dataframe\">\n",
       "  <thead>\n",
       "    <tr style=\"text-align: right;\">\n",
       "      <th></th>\n",
       "      <th>features</th>\n",
       "      <th>VIF</th>\n",
       "    </tr>\n",
       "  </thead>\n",
       "  <tbody>\n",
       "    <tr>\n",
       "      <th>0</th>\n",
       "      <td>Sex</td>\n",
       "      <td>4.833375</td>\n",
       "    </tr>\n",
       "    <tr>\n",
       "      <th>1</th>\n",
       "      <td>ChestPainType</td>\n",
       "      <td>1.873646</td>\n",
       "    </tr>\n",
       "    <tr>\n",
       "      <th>2</th>\n",
       "      <td>Cholesterol</td>\n",
       "      <td>4.064188</td>\n",
       "    </tr>\n",
       "    <tr>\n",
       "      <th>3</th>\n",
       "      <td>FastingBS</td>\n",
       "      <td>1.453147</td>\n",
       "    </tr>\n",
       "    <tr>\n",
       "      <th>4</th>\n",
       "      <td>RestingECG</td>\n",
       "      <td>3.266940</td>\n",
       "    </tr>\n",
       "    <tr>\n",
       "      <th>5</th>\n",
       "      <td>ExerciseAngina</td>\n",
       "      <td>2.541231</td>\n",
       "    </tr>\n",
       "    <tr>\n",
       "      <th>6</th>\n",
       "      <td>Oldpeak</td>\n",
       "      <td>2.348964</td>\n",
       "    </tr>\n",
       "    <tr>\n",
       "      <th>7</th>\n",
       "      <td>ST_Slope</td>\n",
       "      <td>5.601216</td>\n",
       "    </tr>\n",
       "    <tr>\n",
       "      <th>8</th>\n",
       "      <td>HeartDisease</td>\n",
       "      <td>3.766806</td>\n",
       "    </tr>\n",
       "  </tbody>\n",
       "</table>\n",
       "</div>"
      ],
      "text/plain": [
       "         features       VIF\n",
       "0             Sex  4.833375\n",
       "1   ChestPainType  1.873646\n",
       "2     Cholesterol  4.064188\n",
       "3       FastingBS  1.453147\n",
       "4      RestingECG  3.266940\n",
       "5  ExerciseAngina  2.541231\n",
       "6         Oldpeak  2.348964\n",
       "7        ST_Slope  5.601216\n",
       "8    HeartDisease  3.766806"
      ]
     },
     "execution_count": 14,
     "metadata": {},
     "output_type": "execute_result"
    }
   ],
   "source": [
    "from statsmodels.stats.outliers_influence import variance_inflation_factor\n",
    "vif = pd.DataFrame()\n",
    "vif[\"features\"] = df.columns\n",
    "vif[\"VIF\"] = [variance_inflation_factor(df.values, i) for i in range(df.shape[1])]\n",
    "vif"
   ]
  },
  {
   "cell_type": "code",
   "execution_count": 15,
   "metadata": {
    "execution": {
     "iopub.execute_input": "2021-11-11T09:24:51.747518Z",
     "iopub.status.busy": "2021-11-11T09:24:51.746856Z",
     "iopub.status.idle": "2021-11-11T09:24:51.757362Z",
     "shell.execute_reply": "2021-11-11T09:24:51.757948Z",
     "shell.execute_reply.started": "2021-11-11T09:22:03.942832Z"
    },
    "papermill": {
     "duration": 0.045566,
     "end_time": "2021-11-11T09:24:51.758133",
     "exception": false,
     "start_time": "2021-11-11T09:24:51.712567",
     "status": "completed"
    },
    "tags": []
   },
   "outputs": [
    {
     "data": {
      "text/plain": [
       "Sex              -1.424540\n",
       "ChestPainType     0.793916\n",
       "Cholesterol      -0.610086\n",
       "FastingBS         1.264484\n",
       "RestingECG        0.008492\n",
       "ExerciseAngina    0.391329\n",
       "Oldpeak           1.022872\n",
       "ST_Slope         -0.381382\n",
       "HeartDisease     -0.215086\n",
       "dtype: float64"
      ]
     },
     "execution_count": 15,
     "metadata": {},
     "output_type": "execute_result"
    }
   ],
   "source": [
    "df.skew()"
   ]
  },
  {
   "cell_type": "code",
   "execution_count": 16,
   "metadata": {
    "execution": {
     "iopub.execute_input": "2021-11-11T09:24:51.827011Z",
     "iopub.status.busy": "2021-11-11T09:24:51.826344Z",
     "iopub.status.idle": "2021-11-11T09:24:51.836741Z",
     "shell.execute_reply": "2021-11-11T09:24:51.837483Z",
     "shell.execute_reply.started": "2021-11-11T09:22:03.955712Z"
    },
    "papermill": {
     "duration": 0.046272,
     "end_time": "2021-11-11T09:24:51.837705",
     "exception": false,
     "start_time": "2021-11-11T09:24:51.791433",
     "status": "completed"
    },
    "tags": []
   },
   "outputs": [
    {
     "data": {
      "text/plain": [
       "Sex               0.029372\n",
       "ChestPainType    -0.717257\n",
       "Cholesterol       0.118208\n",
       "FastingBS        -0.401960\n",
       "RestingECG       -0.487634\n",
       "ExerciseAngina   -1.850898\n",
       "Oldpeak           1.203064\n",
       "ST_Slope         -0.665597\n",
       "HeartDisease     -1.958008\n",
       "dtype: float64"
      ]
     },
     "execution_count": 16,
     "metadata": {},
     "output_type": "execute_result"
    }
   ],
   "source": [
    "df.kurt()"
   ]
  },
  {
   "cell_type": "code",
   "execution_count": 17,
   "metadata": {
    "execution": {
     "iopub.execute_input": "2021-11-11T09:24:51.908587Z",
     "iopub.status.busy": "2021-11-11T09:24:51.907879Z",
     "iopub.status.idle": "2021-11-11T09:24:51.915108Z",
     "shell.execute_reply": "2021-11-11T09:24:51.915694Z",
     "shell.execute_reply.started": "2021-11-11T09:22:03.968713Z"
    },
    "papermill": {
     "duration": 0.04467,
     "end_time": "2021-11-11T09:24:51.915886",
     "exception": false,
     "start_time": "2021-11-11T09:24:51.871216",
     "status": "completed"
    },
    "tags": []
   },
   "outputs": [],
   "source": [
    "y=df['HeartDisease'].values\n",
    "x=df.drop(['HeartDisease'],axis=1).values\n"
   ]
  },
  {
   "cell_type": "code",
   "execution_count": 18,
   "metadata": {
    "execution": {
     "iopub.execute_input": "2021-11-11T09:24:51.985930Z",
     "iopub.status.busy": "2021-11-11T09:24:51.985228Z",
     "iopub.status.idle": "2021-11-11T09:24:51.990594Z",
     "shell.execute_reply": "2021-11-11T09:24:51.991198Z",
     "shell.execute_reply.started": "2021-11-11T09:22:03.978410Z"
    },
    "papermill": {
     "duration": 0.042311,
     "end_time": "2021-11-11T09:24:51.991388",
     "exception": false,
     "start_time": "2021-11-11T09:24:51.949077",
     "status": "completed"
    },
    "tags": []
   },
   "outputs": [],
   "source": [
    "from sklearn.preprocessing import StandardScaler\n",
    "sc = StandardScaler()\n",
    "x = sc.fit_transform(x)"
   ]
  },
  {
   "cell_type": "code",
   "execution_count": 19,
   "metadata": {
    "execution": {
     "iopub.execute_input": "2021-11-11T09:24:52.064767Z",
     "iopub.status.busy": "2021-11-11T09:24:52.062557Z",
     "iopub.status.idle": "2021-11-11T09:24:52.127196Z",
     "shell.execute_reply": "2021-11-11T09:24:52.127793Z",
     "shell.execute_reply.started": "2021-11-11T09:22:03.990193Z"
    },
    "papermill": {
     "duration": 0.10166,
     "end_time": "2021-11-11T09:24:52.127973",
     "exception": false,
     "start_time": "2021-11-11T09:24:52.026313",
     "status": "completed"
    },
    "tags": []
   },
   "outputs": [],
   "source": [
    "from sklearn.model_selection import train_test_split\n",
    "x_train, x_test, y_train, y_test = train_test_split(x, y, test_size=0.25, random_state=42)"
   ]
  },
  {
   "cell_type": "code",
   "execution_count": 20,
   "metadata": {
    "execution": {
     "iopub.execute_input": "2021-11-11T09:24:52.199038Z",
     "iopub.status.busy": "2021-11-11T09:24:52.198306Z",
     "iopub.status.idle": "2021-11-11T09:24:52.304705Z",
     "shell.execute_reply": "2021-11-11T09:24:52.305233Z",
     "shell.execute_reply.started": "2021-11-11T09:22:04.000035Z"
    },
    "papermill": {
     "duration": 0.145,
     "end_time": "2021-11-11T09:24:52.305458",
     "exception": false,
     "start_time": "2021-11-11T09:24:52.160458",
     "status": "completed"
    },
    "tags": []
   },
   "outputs": [
    {
     "data": {
      "text/plain": [
       "SVC(random_state=42)"
      ]
     },
     "execution_count": 20,
     "metadata": {},
     "output_type": "execute_result"
    }
   ],
   "source": [
    "from sklearn.svm import SVC\n",
    "classifier = SVC(kernel='rbf', random_state=42)\n",
    "classifier.fit(x_train, y_train)"
   ]
  },
  {
   "cell_type": "code",
   "execution_count": 21,
   "metadata": {
    "execution": {
     "iopub.execute_input": "2021-11-11T09:24:52.375666Z",
     "iopub.status.busy": "2021-11-11T09:24:52.374880Z",
     "iopub.status.idle": "2021-11-11T09:24:52.382833Z",
     "shell.execute_reply": "2021-11-11T09:24:52.381957Z",
     "shell.execute_reply.started": "2021-11-11T09:22:04.096109Z"
    },
    "papermill": {
     "duration": 0.044598,
     "end_time": "2021-11-11T09:24:52.382995",
     "exception": false,
     "start_time": "2021-11-11T09:24:52.338397",
     "status": "completed"
    },
    "tags": []
   },
   "outputs": [],
   "source": [
    "y_pred = classifier.predict(x_test)"
   ]
  },
  {
   "cell_type": "code",
   "execution_count": 22,
   "metadata": {
    "execution": {
     "iopub.execute_input": "2021-11-11T09:24:52.454801Z",
     "iopub.status.busy": "2021-11-11T09:24:52.453959Z",
     "iopub.status.idle": "2021-11-11T09:24:52.711146Z",
     "shell.execute_reply": "2021-11-11T09:24:52.710600Z",
     "shell.execute_reply.started": "2021-11-11T09:22:04.105039Z"
    },
    "papermill": {
     "duration": 0.294494,
     "end_time": "2021-11-11T09:24:52.711309",
     "exception": false,
     "start_time": "2021-11-11T09:24:52.416815",
     "status": "completed"
    },
    "tags": []
   },
   "outputs": [
    {
     "data": {
      "text/plain": [
       "<AxesSubplot:>"
      ]
     },
     "execution_count": 22,
     "metadata": {},
     "output_type": "execute_result"
    },
    {
     "data": {
      "image/png": "[encoded data removed]",
      "text/plain": [
       "<Figure size 432x288 with 2 Axes>"
      ]
     },
     "metadata": {
      "needs_background": "light"
     },
     "output_type": "display_data"
    }
   ],
   "source": [
    "from sklearn.metrics import confusion_matrix\n",
    "cf = confusion_matrix(y_test, y_pred)\n",
    "sns.heatmap(cf, annot=True,cmap=\"Blues\")"
   ]
  },
  {
   "cell_type": "code",
   "execution_count": 23,
   "metadata": {
    "execution": {
     "iopub.execute_input": "2021-11-11T09:24:52.789721Z",
     "iopub.status.busy": "2021-11-11T09:24:52.788539Z",
     "iopub.status.idle": "2021-11-11T09:24:52.798979Z",
     "shell.execute_reply": "2021-11-11T09:24:52.798043Z",
     "shell.execute_reply.started": "2021-11-11T09:22:04.357627Z"
    },
    "papermill": {
     "duration": 0.053337,
     "end_time": "2021-11-11T09:24:52.799195",
     "exception": false,
     "start_time": "2021-11-11T09:24:52.745858",
     "status": "completed"
    },
    "tags": []
   },
   "outputs": [
    {
     "name": "stdout",
     "output_type": "stream",
     "text": [
      "\n",
      " Classification_report: \n",
      "               precision    recall  f1-score   support\n",
      "\n",
      "           0       0.87      0.84      0.85        98\n",
      "           1       0.88      0.91      0.90       132\n",
      "\n",
      "    accuracy                           0.88       230\n",
      "   macro avg       0.88      0.87      0.87       230\n",
      "weighted avg       0.88      0.88      0.88       230\n",
      "\n"
     ]
    }
   ],
   "source": [
    "from sklearn import metrics\n",
    "from sklearn.metrics import classification_report\n",
    "print(\"\\n Classification_report: \\n\",classification_report(y_test,y_pred))"
   ]
  },
  {
   "cell_type": "code",
   "execution_count": 24,
   "metadata": {
    "execution": {
     "iopub.execute_input": "2021-11-11T09:24:52.876004Z",
     "iopub.status.busy": "2021-11-11T09:24:52.875039Z",
     "iopub.status.idle": "2021-11-11T09:24:52.885903Z",
     "shell.execute_reply": "2021-11-11T09:24:52.886424Z",
     "shell.execute_reply.started": "2021-11-11T09:22:04.370185Z"
    },
    "papermill": {
     "duration": 0.05172,
     "end_time": "2021-11-11T09:24:52.886650",
     "exception": false,
     "start_time": "2021-11-11T09:24:52.834930",
     "status": "completed"
    },
    "tags": []
   },
   "outputs": [],
   "source": [
    "pred = classifier.predict(x)"
   ]
  },
  {
   "cell_type": "code",
   "execution_count": 25,
   "metadata": {
    "execution": {
     "iopub.execute_input": "2021-11-11T09:24:52.965476Z",
     "iopub.status.busy": "2021-11-11T09:24:52.955934Z",
     "iopub.status.idle": "2021-11-11T09:24:52.968727Z",
     "shell.execute_reply": "2021-11-11T09:24:52.969221Z",
     "shell.execute_reply.started": "2021-11-11T09:22:04.385344Z"
    },
    "papermill": {
     "duration": 0.04945,
     "end_time": "2021-11-11T09:24:52.969413",
     "exception": false,
     "start_time": "2021-11-11T09:24:52.919963",
     "status": "completed"
    },
    "tags": []
   },
   "outputs": [
    {
     "data": {
      "text/html": [
       "<div>\n",
       "<style scoped>\n",
       "    .dataframe tbody tr th:only-of-type {\n",
       "        vertical-align: middle;\n",
       "    }\n",
       "\n",
       "    .dataframe tbody tr th {\n",
       "        vertical-align: top;\n",
       "    }\n",
       "\n",
       "    .dataframe thead th {\n",
       "        text-align: right;\n",
       "    }\n",
       "</style>\n",
       "<table border=\"1\" class=\"dataframe\">\n",
       "  <thead>\n",
       "    <tr style=\"text-align: right;\">\n",
       "      <th></th>\n",
       "      <th>Actual</th>\n",
       "      <th>Predicted</th>\n",
       "    </tr>\n",
       "  </thead>\n",
       "  <tbody>\n",
       "    <tr>\n",
       "      <th>0</th>\n",
       "      <td>0</td>\n",
       "      <td>0</td>\n",
       "    </tr>\n",
       "    <tr>\n",
       "      <th>1</th>\n",
       "      <td>1</td>\n",
       "      <td>0</td>\n",
       "    </tr>\n",
       "    <tr>\n",
       "      <th>2</th>\n",
       "      <td>0</td>\n",
       "      <td>0</td>\n",
       "    </tr>\n",
       "    <tr>\n",
       "      <th>3</th>\n",
       "      <td>1</td>\n",
       "      <td>1</td>\n",
       "    </tr>\n",
       "    <tr>\n",
       "      <th>4</th>\n",
       "      <td>0</td>\n",
       "      <td>0</td>\n",
       "    </tr>\n",
       "    <tr>\n",
       "      <th>...</th>\n",
       "      <td>...</td>\n",
       "      <td>...</td>\n",
       "    </tr>\n",
       "    <tr>\n",
       "      <th>913</th>\n",
       "      <td>1</td>\n",
       "      <td>1</td>\n",
       "    </tr>\n",
       "    <tr>\n",
       "      <th>914</th>\n",
       "      <td>1</td>\n",
       "      <td>1</td>\n",
       "    </tr>\n",
       "    <tr>\n",
       "      <th>915</th>\n",
       "      <td>1</td>\n",
       "      <td>1</td>\n",
       "    </tr>\n",
       "    <tr>\n",
       "      <th>916</th>\n",
       "      <td>1</td>\n",
       "      <td>0</td>\n",
       "    </tr>\n",
       "    <tr>\n",
       "      <th>917</th>\n",
       "      <td>0</td>\n",
       "      <td>0</td>\n",
       "    </tr>\n",
       "  </tbody>\n",
       "</table>\n",
       "<p>918 rows × 2 columns</p>\n",
       "</div>"
      ],
      "text/plain": [
       "     Actual  Predicted\n",
       "0         0          0\n",
       "1         1          0\n",
       "2         0          0\n",
       "3         1          1\n",
       "4         0          0\n",
       "..      ...        ...\n",
       "913       1          1\n",
       "914       1          1\n",
       "915       1          1\n",
       "916       1          0\n",
       "917       0          0\n",
       "\n",
       "[918 rows x 2 columns]"
      ]
     },
     "execution_count": 25,
     "metadata": {},
     "output_type": "execute_result"
    }
   ],
   "source": [
    "final_result=pd.DataFrame({'Actual': df.HeartDisease, 'Predicted': pred})\n",
    "final_result"
   ]
  }
 ],
 "metadata": {
  "kernelspec": {
   "display_name": "Python 3",
   "language": "python",
   "name": "python3"
  },
  "language_info": {
   "codemirror_mode": {
    "name": "ipython",
    "version": 3
   },
   "file_extension": ".py",
   "mimetype": "text/x-python",
   "name": "python",
   "nbconvert_exporter": "python",
   "pygments_lexer": "ipython3",
   "version": "3.7.4"
  },
  "papermill": {
   "default_parameters": {},
   "duration": 16.047049,
   "end_time": "2021-11-11T09:24:53.914505",
   "environment_variables": {},
   "exception": null,
   "input_path": "__notebook__.ipynb",
   "output_path": "__notebook__.ipynb",
   "parameters": {},
   "start_time": "2021-11-11T09:24:37.867456",
   "version": "2.3.3"
  }
 },
 "nbformat": 4,
 "nbformat_minor": 5
}
