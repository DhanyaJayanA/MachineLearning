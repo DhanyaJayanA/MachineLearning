{
 "cells": [
  {
   "cell_type": "markdown",
   "metadata": {},
   "source": [
    "# Wine Quality"
   ]
  },
  {
   "cell_type": "code",
   "execution_count": 2,
   "metadata": {
    "execution": {
     "iopub.execute_input": "2021-08-17T14:18:40.371235Z",
     "iopub.status.busy": "2021-08-17T14:18:40.370544Z",
     "iopub.status.idle": "2021-08-17T14:18:40.516995Z",
     "shell.execute_reply": "2021-08-17T14:18:40.517668Z",
     "shell.execute_reply.started": "2021-08-17T14:17:58.607732Z"
    },
    "papermill": {
     "duration": 0.165091,
     "end_time": "2021-08-17T14:18:40.517851",
     "exception": false,
     "start_time": "2021-08-17T14:18:40.352760",
     "status": "completed"
    },
    "tags": []
   },
   "outputs": [
    {
     "data": {
      "text/html": [
       "<div>\n",
       "<style scoped>\n",
       "    .dataframe tbody tr th:only-of-type {\n",
       "        vertical-align: middle;\n",
       "    }\n",
       "\n",
       "    .dataframe tbody tr th {\n",
       "        vertical-align: top;\n",
       "    }\n",
       "\n",
       "    .dataframe thead th {\n",
       "        text-align: right;\n",
       "    }\n",
       "</style>\n",
       "<table border=\"1\" class=\"dataframe\">\n",
       "  <thead>\n",
       "    <tr style=\"text-align: right;\">\n",
       "      <th></th>\n",
       "      <th>fixed acidity</th>\n",
       "      <th>volatile acidity</th>\n",
       "      <th>citric acid</th>\n",
       "      <th>residual sugar</th>\n",
       "      <th>chlorides</th>\n",
       "      <th>free sulfur dioxide</th>\n",
       "      <th>total sulfur dioxide</th>\n",
       "      <th>density</th>\n",
       "      <th>pH</th>\n",
       "      <th>sulphates</th>\n",
       "      <th>alcohol</th>\n",
       "      <th>quality</th>\n",
       "    </tr>\n",
       "  </thead>\n",
       "  <tbody>\n",
       "    <tr>\n",
       "      <th>0</th>\n",
       "      <td>7.4</td>\n",
       "      <td>0.70</td>\n",
       "      <td>0.00</td>\n",
       "      <td>1.9</td>\n",
       "      <td>0.076</td>\n",
       "      <td>11.0</td>\n",
       "      <td>34.0</td>\n",
       "      <td>0.9978</td>\n",
       "      <td>3.51</td>\n",
       "      <td>0.56</td>\n",
       "      <td>9.4</td>\n",
       "      <td>5</td>\n",
       "    </tr>\n",
       "    <tr>\n",
       "      <th>1</th>\n",
       "      <td>7.8</td>\n",
       "      <td>0.88</td>\n",
       "      <td>0.00</td>\n",
       "      <td>2.6</td>\n",
       "      <td>0.098</td>\n",
       "      <td>25.0</td>\n",
       "      <td>67.0</td>\n",
       "      <td>0.9968</td>\n",
       "      <td>3.20</td>\n",
       "      <td>0.68</td>\n",
       "      <td>9.8</td>\n",
       "      <td>5</td>\n",
       "    </tr>\n",
       "    <tr>\n",
       "      <th>2</th>\n",
       "      <td>7.8</td>\n",
       "      <td>0.76</td>\n",
       "      <td>0.04</td>\n",
       "      <td>2.3</td>\n",
       "      <td>0.092</td>\n",
       "      <td>15.0</td>\n",
       "      <td>54.0</td>\n",
       "      <td>0.9970</td>\n",
       "      <td>3.26</td>\n",
       "      <td>0.65</td>\n",
       "      <td>9.8</td>\n",
       "      <td>5</td>\n",
       "    </tr>\n",
       "    <tr>\n",
       "      <th>3</th>\n",
       "      <td>11.2</td>\n",
       "      <td>0.28</td>\n",
       "      <td>0.56</td>\n",
       "      <td>1.9</td>\n",
       "      <td>0.075</td>\n",
       "      <td>17.0</td>\n",
       "      <td>60.0</td>\n",
       "      <td>0.9980</td>\n",
       "      <td>3.16</td>\n",
       "      <td>0.58</td>\n",
       "      <td>9.8</td>\n",
       "      <td>6</td>\n",
       "    </tr>\n",
       "    <tr>\n",
       "      <th>4</th>\n",
       "      <td>7.4</td>\n",
       "      <td>0.70</td>\n",
       "      <td>0.00</td>\n",
       "      <td>1.9</td>\n",
       "      <td>0.076</td>\n",
       "      <td>11.0</td>\n",
       "      <td>34.0</td>\n",
       "      <td>0.9978</td>\n",
       "      <td>3.51</td>\n",
       "      <td>0.56</td>\n",
       "      <td>9.4</td>\n",
       "      <td>5</td>\n",
       "    </tr>\n",
       "  </tbody>\n",
       "</table>\n",
       "</div>"
      ],
      "text/plain": [
       "   fixed acidity  volatile acidity  citric acid  residual sugar  chlorides  \\\n",
       "0            7.4              0.70         0.00             1.9      0.076   \n",
       "1            7.8              0.88         0.00             2.6      0.098   \n",
       "2            7.8              0.76         0.04             2.3      0.092   \n",
       "3           11.2              0.28         0.56             1.9      0.075   \n",
       "4            7.4              0.70         0.00             1.9      0.076   \n",
       "\n",
       "   free sulfur dioxide  total sulfur dioxide  density    pH  sulphates  \\\n",
       "0                 11.0                  34.0   0.9978  3.51       0.56   \n",
       "1                 25.0                  67.0   0.9968  3.20       0.68   \n",
       "2                 15.0                  54.0   0.9970  3.26       0.65   \n",
       "3                 17.0                  60.0   0.9980  3.16       0.58   \n",
       "4                 11.0                  34.0   0.9978  3.51       0.56   \n",
       "\n",
       "   alcohol  quality  \n",
       "0      9.4        5  \n",
       "1      9.8        5  \n",
       "2      9.8        5  \n",
       "3      9.8        6  \n",
       "4      9.4        5  "
      ]
     },
     "execution_count": 2,
     "metadata": {},
     "output_type": "execute_result"
    }
   ],
   "source": [
    "df=pd.read_csv(\"../input/red-wine-quality-cortez-et-al-2009/winequality-red.csv\")\n",
    "df.head()"
   ]
  },
  {
   "cell_type": "code",
   "execution_count": 3,
   "metadata": {
    "execution": {
     "iopub.execute_input": "2021-08-17T14:18:40.548096Z",
     "iopub.status.busy": "2021-08-17T14:18:40.547313Z",
     "iopub.status.idle": "2021-08-17T14:18:40.552677Z",
     "shell.execute_reply": "2021-08-17T14:18:40.553208Z",
     "shell.execute_reply.started": "2021-08-17T14:17:58.752330Z"
    },
    "papermill": {
     "duration": 0.021879,
     "end_time": "2021-08-17T14:18:40.553396",
     "exception": false,
     "start_time": "2021-08-17T14:18:40.531517",
     "status": "completed"
    },
    "tags": []
   },
   "outputs": [
    {
     "data": {
      "text/plain": [
       "19188"
      ]
     },
     "execution_count": 3,
     "metadata": {},
     "output_type": "execute_result"
    }
   ],
   "source": [
    "df.size"
   ]
  },
  {
   "cell_type": "code",
   "execution_count": 4,
   "metadata": {
    "execution": {
     "iopub.execute_input": "2021-08-17T14:18:40.587808Z",
     "iopub.status.busy": "2021-08-17T14:18:40.587046Z",
     "iopub.status.idle": "2021-08-17T14:18:40.592354Z",
     "shell.execute_reply": "2021-08-17T14:18:40.592880Z",
     "shell.execute_reply.started": "2021-08-17T14:17:58.760392Z"
    },
    "papermill": {
     "duration": 0.02548,
     "end_time": "2021-08-17T14:18:40.593046",
     "exception": false,
     "start_time": "2021-08-17T14:18:40.567566",
     "status": "completed"
    },
    "tags": []
   },
   "outputs": [
    {
     "data": {
      "text/plain": [
       "array([5, 6, 7, 4, 8, 3])"
      ]
     },
     "execution_count": 4,
     "metadata": {},
     "output_type": "execute_result"
    }
   ],
   "source": [
    "df.quality.unique()"
   ]
  },
  {
   "cell_type": "code",
   "execution_count": 5,
   "metadata": {
    "execution": {
     "iopub.execute_input": "2021-08-17T14:18:40.629014Z",
     "iopub.status.busy": "2021-08-17T14:18:40.628357Z",
     "iopub.status.idle": "2021-08-17T14:18:40.631520Z",
     "shell.execute_reply": "2021-08-17T14:18:40.632082Z",
     "shell.execute_reply.started": "2021-08-17T14:17:58.776508Z"
    },
    "papermill": {
     "duration": 0.024986,
     "end_time": "2021-08-17T14:18:40.632260",
     "exception": false,
     "start_time": "2021-08-17T14:18:40.607274",
     "status": "completed"
    },
    "tags": []
   },
   "outputs": [
    {
     "data": {
      "text/plain": [
       "fixed acidity              3.031416\n",
       "volatile acidity           0.032062\n",
       "citric acid                0.037947\n",
       "residual sugar             1.987897\n",
       "chlorides                  0.002215\n",
       "free sulfur dioxide      109.414884\n",
       "total sulfur dioxide    1082.102373\n",
       "density                    0.000004\n",
       "pH                         0.023835\n",
       "sulphates                  0.028733\n",
       "alcohol                    1.135647\n",
       "quality                    0.652168\n",
       "dtype: float64"
      ]
     },
     "execution_count": 5,
     "metadata": {},
     "output_type": "execute_result"
    }
   ],
   "source": [
    "df.var()"
   ]
  },
  {
   "cell_type": "code",
   "execution_count": 6,
   "metadata": {
    "execution": {
     "iopub.execute_input": "2021-08-17T14:18:40.664011Z",
     "iopub.status.busy": "2021-08-17T14:18:40.663355Z",
     "iopub.status.idle": "2021-08-17T14:18:40.671815Z",
     "shell.execute_reply": "2021-08-17T14:18:40.671271Z",
     "shell.execute_reply.started": "2021-08-17T14:17:58.786654Z"
    },
    "papermill": {
     "duration": 0.025227,
     "end_time": "2021-08-17T14:18:40.671959",
     "exception": false,
     "start_time": "2021-08-17T14:18:40.646732",
     "status": "completed"
    },
    "tags": []
   },
   "outputs": [
    {
     "data": {
      "text/plain": [
       "fixed acidity           0\n",
       "volatile acidity        0\n",
       "citric acid             0\n",
       "residual sugar          0\n",
       "chlorides               0\n",
       "free sulfur dioxide     0\n",
       "total sulfur dioxide    0\n",
       "density                 0\n",
       "pH                      0\n",
       "sulphates               0\n",
       "alcohol                 0\n",
       "quality                 0\n",
       "dtype: int64"
      ]
     },
     "execution_count": 6,
     "metadata": {},
     "output_type": "execute_result"
    }
   ],
   "source": [
    "df.isnull().sum()"
   ]
  },
  {
   "cell_type": "code",
   "execution_count": 7,
   "metadata": {
    "execution": {
     "iopub.execute_input": "2021-08-17T14:18:40.710072Z",
     "iopub.status.busy": "2021-08-17T14:18:40.709356Z",
     "iopub.status.idle": "2021-08-17T14:18:40.714295Z",
     "shell.execute_reply": "2021-08-17T14:18:40.713753Z",
     "shell.execute_reply.started": "2021-08-17T14:17:58.803225Z"
    },
    "papermill": {
     "duration": 0.027303,
     "end_time": "2021-08-17T14:18:40.714458",
     "exception": false,
     "start_time": "2021-08-17T14:18:40.687155",
     "status": "completed"
    },
    "tags": []
   },
   "outputs": [
    {
     "data": {
      "text/plain": [
       "fixed acidity           float64\n",
       "volatile acidity        float64\n",
       "citric acid             float64\n",
       "residual sugar          float64\n",
       "chlorides               float64\n",
       "free sulfur dioxide     float64\n",
       "total sulfur dioxide    float64\n",
       "density                 float64\n",
       "pH                      float64\n",
       "sulphates               float64\n",
       "alcohol                 float64\n",
       "quality                   int64\n",
       "dtype: object"
      ]
     },
     "execution_count": 7,
     "metadata": {},
     "output_type": "execute_result"
    }
   ],
   "source": [
    "df.dtypes"
   ]
  },
  {
   "cell_type": "code",
   "execution_count": 8,
   "metadata": {
    "execution": {
     "iopub.execute_input": "2021-08-17T14:18:40.758278Z",
     "iopub.status.busy": "2021-08-17T14:18:40.757567Z",
     "iopub.status.idle": "2021-08-17T14:18:40.761711Z",
     "shell.execute_reply": "2021-08-17T14:18:40.762232Z",
     "shell.execute_reply.started": "2021-08-17T14:17:58.812713Z"
    },
    "papermill": {
     "duration": 0.029496,
     "end_time": "2021-08-17T14:18:40.762444",
     "exception": false,
     "start_time": "2021-08-17T14:18:40.732948",
     "status": "completed"
    },
    "tags": []
   },
   "outputs": [],
   "source": [
    "x=df.drop(\"quality\",axis=1).values\n",
    "y=df[\"quality\"].values"
   ]
  },
  {
   "cell_type": "code",
   "execution_count": 9,
   "metadata": {
    "execution": {
     "iopub.execute_input": "2021-08-17T14:18:40.806027Z",
     "iopub.status.busy": "2021-08-17T14:18:40.805007Z",
     "iopub.status.idle": "2021-08-17T14:18:41.716876Z",
     "shell.execute_reply": "2021-08-17T14:18:41.716257Z",
     "shell.execute_reply.started": "2021-08-17T14:17:58.842326Z"
    },
    "papermill": {
     "duration": 0.933743,
     "end_time": "2021-08-17T14:18:41.717032",
     "exception": false,
     "start_time": "2021-08-17T14:18:40.783289",
     "status": "completed"
    },
    "tags": []
   },
   "outputs": [],
   "source": [
    "from sklearn.preprocessing import StandardScaler\n",
    "sc=StandardScaler()\n",
    "x=sc.fit_transform(x)\n",
    "from sklearn.model_selection import train_test_split\n",
    "x_train,x_test,y_train,y_test=train_test_split(x,y,test_size=0.3)"
   ]
  },
  {
   "cell_type": "code",
   "execution_count": 10,
   "metadata": {
    "execution": {
     "iopub.execute_input": "2021-08-17T14:18:41.752998Z",
     "iopub.status.busy": "2021-08-17T14:18:41.752306Z",
     "iopub.status.idle": "2021-08-17T14:18:42.343839Z",
     "shell.execute_reply": "2021-08-17T14:18:42.343203Z",
     "shell.execute_reply.started": "2021-08-17T14:17:59.757311Z"
    },
    "papermill": {
     "duration": 0.611381,
     "end_time": "2021-08-17T14:18:42.343980",
     "exception": false,
     "start_time": "2021-08-17T14:18:41.732599",
     "status": "completed"
    },
    "tags": []
   },
   "outputs": [],
   "source": [
    "from sklearn.ensemble import RandomForestClassifier\n",
    "rf=RandomForestClassifier()\n",
    "rf.fit(x_train,y_train)\n",
    "pred=rf.predict(x_test)"
   ]
  },
  {
   "cell_type": "code",
   "execution_count": 13,
   "metadata": {
    "execution": {
     "iopub.execute_input": "2021-08-17T14:18:42.466761Z",
     "iopub.status.busy": "2021-08-17T14:18:42.466062Z",
     "iopub.status.idle": "2021-08-17T14:18:42.473488Z",
     "shell.execute_reply": "2021-08-17T14:18:42.472435Z",
     "shell.execute_reply.started": "2021-08-17T14:18:00.341270Z"
    },
    "papermill": {
     "duration": 0.025936,
     "end_time": "2021-08-17T14:18:42.473755",
     "exception": false,
     "start_time": "2021-08-17T14:18:42.447819",
     "status": "completed"
    },
    "tags": []
   },
   "outputs": [
    {
     "name": "stdout",
     "output_type": "stream",
     "text": [
      "0.6291666666666667\n"
     ]
    }
   ],
   "source": [
    "print(accuracy_score(y_test,pred))"
   ]
  },
  {
   "cell_type": "code",
   "execution_count": 14,
   "metadata": {
    "execution": {
     "iopub.execute_input": "2021-08-17T14:18:42.511563Z",
     "iopub.status.busy": "2021-08-17T14:18:42.510807Z",
     "iopub.status.idle": "2021-08-17T14:18:42.517882Z",
     "shell.execute_reply": "2021-08-17T14:18:42.518372Z",
     "shell.execute_reply.started": "2021-08-17T14:18:00.348013Z"
    },
    "papermill": {
     "duration": 0.027891,
     "end_time": "2021-08-17T14:18:42.518552",
     "exception": false,
     "start_time": "2021-08-17T14:18:42.490661",
     "status": "completed"
    },
    "tags": []
   },
   "outputs": [],
   "source": [
    "my_submission=pd.DataFrame(data=pred)\n",
    "my_submission.to_csv(\"output.csv\")"
   ]
  },
  {
   "cell_type": "markdown",
   "metadata": {},
   "source": [
    "                                                                                                                Dhanya Jayan"
   ]
  }
 ],
 "metadata": {
  "kernelspec": {
   "display_name": "Python 3",
   "language": "python",
   "name": "python3"
  },
  "language_info": {
   "codemirror_mode": {
    "name": "ipython",
    "version": 3
   },
   "file_extension": ".py",
   "mimetype": "text/x-python",
   "name": "python",
   "nbconvert_exporter": "python",
   "pygments_lexer": "ipython3",
   "version": "3.7.4"
  },
  "papermill": {
   "default_parameters": {},
   "duration": 11.883633,
   "end_time": "2021-08-17T14:18:44.008465",
   "environment_variables": {},
   "exception": null,
   "input_path": "__notebook__.ipynb",
   "output_path": "__notebook__.ipynb",
   "parameters": {},
   "start_time": "2021-08-17T14:18:32.124832",
   "version": "2.3.3"
  }
 },
 "nbformat": 4,
 "nbformat_minor": 5
}
